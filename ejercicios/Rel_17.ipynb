{
 "cells": [
  {
   "cell_type": "markdown",
   "metadata": {},
   "source": [
    "# Relación 17: Vectores y matrices con las librerías.\n",
    "\n",
    "[José A. Alonso](https://www.cs.us.es/~jalonso)  \n",
    "[Departamento de Ciencias de la Computación e I.A.](https://www.cs.us.es)  \n",
    "[Universidad de Sevilla](http://www.us.es)  \n",
    "Sevilla, 4 de agosto de 2019"
   ]
  },
  {
   "cell_type": "markdown",
   "metadata": {},
   "source": [
    "> **Nota** Se desactiva el [corrector estilo de Haskell](https://github.com/gibiansky/IHaskell/wiki#opt-no-lint) en Jupyter"
   ]
  },
  {
   "cell_type": "code",
   "execution_count": 1,
   "metadata": {
    "collapsed": true,
    "jupyter": {
     "outputs_hidden": true
    }
   },
   "outputs": [],
   "source": [
    ":opt no-lint"
   ]
  },
  {
   "cell_type": "markdown",
   "metadata": {},
   "source": [
    "## Introducción                                                       \n",
    "\n",
    "El objetivo de esta relación es adaptar los ejercicios de las\n",
    "relaciones 15 y 16 (sobre vectores y matrices) usando las librerías\n",
    "Data.Vector y Data.Matrix. \n",
    "\n",
    "Los manuales, con ejemplos, de la librerías se encuentra en\n",
    "\n",
    "+ [manual de la librería de vectores](http://bit.ly/1PNZ6Br) y \n",
    "+ [manual de la librería de matrices](http://bit.ly/1PNZ9ND).\n",
    "\n",
    "# Importación de librerías                                           "
   ]
  },
  {
   "cell_type": "code",
   "execution_count": 2,
   "metadata": {
    "collapsed": true,
    "jupyter": {
     "outputs_hidden": true
    }
   },
   "outputs": [],
   "source": [
    "import qualified Data.Vector as V \n",
    "import Data.Matrix \n",
    "import Data.Ratio\n",
    "import Data.Maybe"
   ]
  },
  {
   "cell_type": "markdown",
   "metadata": {},
   "source": [
    "## Tipos de los vectores y de las matrices                            \n",
    "Los vectores con elementos de tipo a son del tipo (V.Vector a).\n",
    "\n",
    "Los matrices con elementos de tipo a son del tipo (Matrix a).\n",
    "\n",
    "## Operaciones básicas con matrices                                   \n",
    "\n",
    "---\n",
    "**Ejercicio 1** Definir la función\n",
    "~~~\n",
    "listaVector :: Num a => [a] -> V.Vector a\n",
    "~~~\n",
    "tal que (listaVector xs) es el vector correspondiente a la lista\n",
    "xs. Por ejemplo, \n",
    "~~~\n",
    "ghci> listaVector [3,2,5]\n",
    "fromList [3,2,5]\n",
    "~~~\n",
    "---"
   ]
  },
  {
   "cell_type": "code",
   "execution_count": 3,
   "metadata": {
    "collapsed": true,
    "jupyter": {
     "outputs_hidden": true
    }
   },
   "outputs": [],
   "source": [
    "listaVector :: Num a => [a] -> V.Vector a\n",
    "listaVector = undefined"
   ]
  },
  {
   "cell_type": "code",
   "execution_count": 4,
   "metadata": {
    "collapsed": true,
    "jupyter": {
     "outputs_hidden": true
    }
   },
   "outputs": [
    {
     "ename": "",
     "evalue": "",
     "header": "MessageHeader {mhIdentifiers = [\"6ed6f3d1-63da-49e1-adcf-d5b55d9114ae\"], mhParentHeader = Just (MessageHeader {mhIdentifiers = [\"6ed6f3d1-63da-49e1-adcf-d5b55d9114ae\"], mhParentHeader = Nothing, mhMetadata = Metadata (fromList [(\"deletedCells\",Array [String \"55f75c61-e59d-4ced-86c9-1bdc1060149d\"]),(\"cellId\",String \"285f6be1-3680-461c-9701-754001f534a2\")]), mhMessageId = UUID {uuidToString = \"9b7ce463-0291-46ef-b31d-323cbf663bc9\"}, mhSessionId = UUID {uuidToString = \"6ed6f3d1-63da-49e1-adcf-d5b55d9114ae\"}, mhUsername = \"\", mhMsgType = ExecuteRequestMessage}), mhMetadata = Metadata (fromList []), mhMessageId = UUID {uuidToString = \"93b4c2de-92b0-4301-9c4c-c86f13c0df4e\"}, mhSessionId = UUID {uuidToString = \"6ed6f3d1-63da-49e1-adcf-d5b55d9114ae\"}, mhUsername = \"\", mhMsgType = ExecuteErrorMessage}",
     "output_type": "error",
     "traceback": [
      "Prelude.undefined\nCallStack (from HasCallStack):\n  error, called at libraries/base/GHC/Err.hs:78:14 in base:GHC.Err\n  undefined, called at <interactive>:2:15 in interactive:Ghci37"
     ]
    }
   ],
   "source": [
    "listaVector [3,2,5]"
   ]
  },
  {
   "cell_type": "markdown",
   "metadata": {},
   "source": [
    "---\n",
    "**Ejercicio 2** Definir la función\n",
    "~~~\n",
    "listaMatriz :: Num a => [[a]] -> Matrix a\n",
    "~~~\n",
    "tal que (listaMatriz xss) es la matriz cuyas filas son los elementos de xss. Por ejemplo,\n",
    "~~~\n",
    "ghci> listaMatriz [[1,3,5],[2,4,7]]\n",
    "( 1 3 5 )\n",
    "( 2 4 7 )\n",
    "~~~\n",
    "---"
   ]
  },
  {
   "cell_type": "code",
   "execution_count": 5,
   "metadata": {
    "collapsed": true,
    "jupyter": {
     "outputs_hidden": true
    }
   },
   "outputs": [],
   "source": [
    "listaMatriz :: Num a => [[a]] -> Matrix a\n",
    "listaMatriz = undefined"
   ]
  },
  {
   "cell_type": "code",
   "execution_count": 6,
   "metadata": {
    "collapsed": true,
    "jupyter": {
     "outputs_hidden": true
    }
   },
   "outputs": [
    {
     "ename": "",
     "evalue": "",
     "header": "MessageHeader {mhIdentifiers = [\"6ed6f3d1-63da-49e1-adcf-d5b55d9114ae\"], mhParentHeader = Just (MessageHeader {mhIdentifiers = [\"6ed6f3d1-63da-49e1-adcf-d5b55d9114ae\"], mhParentHeader = Nothing, mhMetadata = Metadata (fromList [(\"deletedCells\",Array [String \"55f75c61-e59d-4ced-86c9-1bdc1060149d\"]),(\"cellId\",String \"10c4f5f4-f314-484b-a696-081cbb121093\")]), mhMessageId = UUID {uuidToString = \"aa3e74e6-5cfd-4ba7-b229-38d826f46515\"}, mhSessionId = UUID {uuidToString = \"6ed6f3d1-63da-49e1-adcf-d5b55d9114ae\"}, mhUsername = \"\", mhMsgType = ExecuteRequestMessage}), mhMetadata = Metadata (fromList []), mhMessageId = UUID {uuidToString = \"2cad9dba-e5cf-4cbf-b3b8-9d63bf24e7a9\"}, mhSessionId = UUID {uuidToString = \"6ed6f3d1-63da-49e1-adcf-d5b55d9114ae\"}, mhUsername = \"\", mhMsgType = ExecuteErrorMessage}",
     "output_type": "error",
     "traceback": [
      "Prelude.undefined\nCallStack (from HasCallStack):\n  error, called at libraries/base/GHC/Err.hs:78:14 in base:GHC.Err\n  undefined, called at <interactive>:2:15 in interactive:Ghci71"
     ]
    }
   ],
   "source": [
    "listaMatriz [[1,3,5],[2,4,7]]"
   ]
  },
  {
   "cell_type": "markdown",
   "metadata": {},
   "source": [
    "---\n",
    "**Ejercicio 3**. Definir la función\n",
    "~~~\n",
    "numFilas :: Num a => Matrix a -> Int\n",
    "~~~\n",
    "tal que (numFilas m) es el número de filas de la matriz m. Por\n",
    "ejemplo,\n",
    "~~~\n",
    "numFilas (listaMatriz [[1,3,5],[2,4,7]])  ==  2\n",
    "~~~\n",
    "---"
   ]
  },
  {
   "cell_type": "code",
   "execution_count": 7,
   "metadata": {
    "collapsed": true,
    "jupyter": {
     "outputs_hidden": true
    }
   },
   "outputs": [],
   "source": [
    "numFilas :: Num a => Matrix a -> Int\n",
    "numFilas = undefined"
   ]
  },
  {
   "cell_type": "code",
   "execution_count": 8,
   "metadata": {
    "collapsed": true,
    "jupyter": {
     "outputs_hidden": true
    }
   },
   "outputs": [
    {
     "ename": "",
     "evalue": "",
     "header": "MessageHeader {mhIdentifiers = [\"6ed6f3d1-63da-49e1-adcf-d5b55d9114ae\"], mhParentHeader = Just (MessageHeader {mhIdentifiers = [\"6ed6f3d1-63da-49e1-adcf-d5b55d9114ae\"], mhParentHeader = Nothing, mhMetadata = Metadata (fromList [(\"deletedCells\",Array [String \"55f75c61-e59d-4ced-86c9-1bdc1060149d\"]),(\"cellId\",String \"b7cadfe9-e55c-4ce2-8fad-302dfaf209bf\")]), mhMessageId = UUID {uuidToString = \"0eb3f28a-5b6b-4f56-93eb-94aee56643f8\"}, mhSessionId = UUID {uuidToString = \"6ed6f3d1-63da-49e1-adcf-d5b55d9114ae\"}, mhUsername = \"\", mhMsgType = ExecuteRequestMessage}), mhMetadata = Metadata (fromList []), mhMessageId = UUID {uuidToString = \"7f00b75d-2f35-4993-9ce2-f85bc4640ffd\"}, mhSessionId = UUID {uuidToString = \"6ed6f3d1-63da-49e1-adcf-d5b55d9114ae\"}, mhUsername = \"\", mhMsgType = ExecuteErrorMessage}",
     "output_type": "error",
     "traceback": [
      "Prelude.undefined\nCallStack (from HasCallStack):\n  error, called at libraries/base/GHC/Err.hs:78:14 in base:GHC.Err\n  undefined, called at <interactive>:2:12 in interactive:Ghci105"
     ]
    }
   ],
   "source": [
    "numFilas (listaMatriz [[1,3,5],[2,4,7]])"
   ]
  },
  {
   "cell_type": "markdown",
   "metadata": {},
   "source": [
    "---\n",
    "**Ejercicio 4** Definir la función\n",
    "~~~\n",
    "numColumnas :: Num a => Matrix a -> Int\n",
    "~~~\n",
    "tal que (numColumnas m) es el número de columnas de la matriz\n",
    "m. Por ejemplo,\n",
    "~~~\n",
    "numColumnas (listaMatriz [[1,3,5],[2,4,7]])  ==  3\n",
    "~~~\n",
    "---"
   ]
  },
  {
   "cell_type": "code",
   "execution_count": 9,
   "metadata": {
    "collapsed": true,
    "jupyter": {
     "outputs_hidden": true
    }
   },
   "outputs": [],
   "source": [
    "numColumnas :: Num a => Matrix a -> Int\n",
    "numColumnas = undefined"
   ]
  },
  {
   "cell_type": "code",
   "execution_count": 10,
   "metadata": {
    "collapsed": true,
    "jupyter": {
     "outputs_hidden": true
    }
   },
   "outputs": [
    {
     "ename": "",
     "evalue": "",
     "header": "MessageHeader {mhIdentifiers = [\"6ed6f3d1-63da-49e1-adcf-d5b55d9114ae\"], mhParentHeader = Just (MessageHeader {mhIdentifiers = [\"6ed6f3d1-63da-49e1-adcf-d5b55d9114ae\"], mhParentHeader = Nothing, mhMetadata = Metadata (fromList [(\"deletedCells\",Array [String \"55f75c61-e59d-4ced-86c9-1bdc1060149d\"]),(\"cellId\",String \"1870bd43-6d3f-4979-aeb4-b55a79cb0f8c\")]), mhMessageId = UUID {uuidToString = \"9beb57b2-c8d0-476c-b0ae-976f49662c46\"}, mhSessionId = UUID {uuidToString = \"6ed6f3d1-63da-49e1-adcf-d5b55d9114ae\"}, mhUsername = \"\", mhMsgType = ExecuteRequestMessage}), mhMetadata = Metadata (fromList []), mhMessageId = UUID {uuidToString = \"6ea939aa-70e8-4445-b5ae-55a60ee22861\"}, mhSessionId = UUID {uuidToString = \"6ed6f3d1-63da-49e1-adcf-d5b55d9114ae\"}, mhUsername = \"\", mhMsgType = ExecuteErrorMessage}",
     "output_type": "error",
     "traceback": [
      "Prelude.undefined\nCallStack (from HasCallStack):\n  error, called at libraries/base/GHC/Err.hs:78:14 in base:GHC.Err\n  undefined, called at <interactive>:2:15 in interactive:Ghci139"
     ]
    }
   ],
   "source": [
    "numColumnas (listaMatriz [[1,3,5],[2,4,7]])"
   ]
  },
  {
   "cell_type": "markdown",
   "metadata": {},
   "source": [
    "---\n",
    "**Ejercicio 5**. Definir la función\n",
    "~~~\n",
    "dimension :: Num a => Matrix a -> (Int,Int)\n",
    "~~~\n",
    "tal que (dimension m) es la dimensión de la matriz m. Por ejemplo, \n",
    "~~~\n",
    "dimension (listaMatriz [[1,3,5],[2,4,7]])  ==  (2,3)\n",
    "~~~\n",
    "---"
   ]
  },
  {
   "cell_type": "code",
   "execution_count": 11,
   "metadata": {
    "collapsed": true,
    "jupyter": {
     "outputs_hidden": true
    }
   },
   "outputs": [],
   "source": [
    "dimension :: Num a => Matrix a -> (Int,Int)\n",
    "dimension p = undefined"
   ]
  },
  {
   "cell_type": "code",
   "execution_count": 12,
   "metadata": {
    "collapsed": true,
    "jupyter": {
     "outputs_hidden": true
    }
   },
   "outputs": [
    {
     "ename": "",
     "evalue": "",
     "header": "MessageHeader {mhIdentifiers = [\"6ed6f3d1-63da-49e1-adcf-d5b55d9114ae\"], mhParentHeader = Just (MessageHeader {mhIdentifiers = [\"6ed6f3d1-63da-49e1-adcf-d5b55d9114ae\"], mhParentHeader = Nothing, mhMetadata = Metadata (fromList [(\"deletedCells\",Array [String \"55f75c61-e59d-4ced-86c9-1bdc1060149d\"]),(\"cellId\",String \"d01a9e7e-23c6-4c99-96d2-78a7a36da9b2\")]), mhMessageId = UUID {uuidToString = \"0c5ca4db-95e2-4c26-a7a4-073bfe616bd5\"}, mhSessionId = UUID {uuidToString = \"6ed6f3d1-63da-49e1-adcf-d5b55d9114ae\"}, mhUsername = \"\", mhMsgType = ExecuteRequestMessage}), mhMetadata = Metadata (fromList []), mhMessageId = UUID {uuidToString = \"5b7e7d23-67fe-4149-b28f-68ea07bfefe4\"}, mhSessionId = UUID {uuidToString = \"6ed6f3d1-63da-49e1-adcf-d5b55d9114ae\"}, mhUsername = \"\", mhMsgType = ExecuteErrorMessage}",
     "output_type": "error",
     "traceback": [
      "Prelude.undefined\nCallStack (from HasCallStack):\n  error, called at libraries/base/GHC/Err.hs:78:14 in base:GHC.Err\n  undefined, called at <interactive>:2:15 in interactive:Ghci173"
     ]
    }
   ],
   "source": [
    "dimension (listaMatriz [[1,3,5],[2,4,7]])"
   ]
  },
  {
   "cell_type": "markdown",
   "metadata": {},
   "source": [
    "---\n",
    "**Ejercicio 7**. Definir la función\n",
    "~~~\n",
    "matrizLista :: Num a => Matrix a -> [[a]]\n",
    "~~~\n",
    "tal que (matrizLista x) es la lista de las filas de la matriz x. Por\n",
    "ejemplo, \n",
    "~~~\n",
    "ghci> m = listaMatriz [[5,1,0],[3,2,6]]\n",
    "ghci> m\n",
    "( 5 1 0 )\n",
    "( 3 2 6 )\n",
    "ghci> matrizLista m\n",
    "[[5,1,0],[3,2,6]]\n",
    "~~~\n",
    "---"
   ]
  },
  {
   "cell_type": "code",
   "execution_count": 13,
   "metadata": {
    "collapsed": true,
    "jupyter": {
     "outputs_hidden": true
    }
   },
   "outputs": [],
   "source": [
    "matrizLista :: Num a => Matrix a -> [[a]]\n",
    "matrizLista = undefined"
   ]
  },
  {
   "cell_type": "code",
   "execution_count": 14,
   "metadata": {
    "collapsed": true,
    "jupyter": {
     "outputs_hidden": true
    }
   },
   "outputs": [
    {
     "ename": "",
     "evalue": "",
     "header": "MessageHeader {mhIdentifiers = [\"6ed6f3d1-63da-49e1-adcf-d5b55d9114ae\"], mhParentHeader = Just (MessageHeader {mhIdentifiers = [\"6ed6f3d1-63da-49e1-adcf-d5b55d9114ae\"], mhParentHeader = Nothing, mhMetadata = Metadata (fromList [(\"deletedCells\",Array [String \"55f75c61-e59d-4ced-86c9-1bdc1060149d\"]),(\"cellId\",String \"b820e814-eb47-410c-95b4-d02849a21cd6\")]), mhMessageId = UUID {uuidToString = \"277b3d8c-77ff-489d-8380-705d0f6d94d7\"}, mhSessionId = UUID {uuidToString = \"6ed6f3d1-63da-49e1-adcf-d5b55d9114ae\"}, mhUsername = \"\", mhMsgType = ExecuteRequestMessage}), mhMetadata = Metadata (fromList []), mhMessageId = UUID {uuidToString = \"59c80803-6858-4cf3-9408-e4f3c8f028e3\"}, mhSessionId = UUID {uuidToString = \"6ed6f3d1-63da-49e1-adcf-d5b55d9114ae\"}, mhUsername = \"\", mhMsgType = ExecuteErrorMessage}",
     "output_type": "error",
     "traceback": [
      "Prelude.undefined\nCallStack (from HasCallStack):\n  error, called at libraries/base/GHC/Err.hs:78:14 in base:GHC.Err\n  undefined, called at <interactive>:2:15 in interactive:Ghci71"
     ]
    }
   ],
   "source": [
    "m = listaMatriz [[5,1,0],[3,2,6]]\n",
    "m"
   ]
  },
  {
   "cell_type": "code",
   "execution_count": 15,
   "metadata": {
    "collapsed": true,
    "jupyter": {
     "outputs_hidden": true
    }
   },
   "outputs": [
    {
     "ename": "",
     "evalue": "",
     "header": "MessageHeader {mhIdentifiers = [\"6ed6f3d1-63da-49e1-adcf-d5b55d9114ae\"], mhParentHeader = Just (MessageHeader {mhIdentifiers = [\"6ed6f3d1-63da-49e1-adcf-d5b55d9114ae\"], mhParentHeader = Nothing, mhMetadata = Metadata (fromList [(\"deletedCells\",Array [String \"55f75c61-e59d-4ced-86c9-1bdc1060149d\"]),(\"cellId\",String \"e5cd1c30-a0ff-4c1b-abe8-00858bafbaae\")]), mhMessageId = UUID {uuidToString = \"ec9e691b-dd67-4d6a-9683-5847895ea1a7\"}, mhSessionId = UUID {uuidToString = \"6ed6f3d1-63da-49e1-adcf-d5b55d9114ae\"}, mhUsername = \"\", mhMsgType = ExecuteRequestMessage}), mhMetadata = Metadata (fromList []), mhMessageId = UUID {uuidToString = \"f0cc09c1-5af3-4bb0-a057-0da5158b8e40\"}, mhSessionId = UUID {uuidToString = \"6ed6f3d1-63da-49e1-adcf-d5b55d9114ae\"}, mhUsername = \"\", mhMsgType = ExecuteErrorMessage}",
     "output_type": "error",
     "traceback": [
      "Prelude.undefined\nCallStack (from HasCallStack):\n  error, called at libraries/base/GHC/Err.hs:78:14 in base:GHC.Err\n  undefined, called at <interactive>:2:15 in interactive:Ghci207"
     ]
    }
   ],
   "source": [
    "matrizLista m"
   ]
  },
  {
   "cell_type": "markdown",
   "metadata": {},
   "source": [
    "---\n",
    "**Ejercicio 8**. Definir la función\n",
    "~~~\n",
    "vectorLista :: Num a => V.Vector a -> [a]\n",
    "~~~\n",
    "tal que (vectorLista x) es la lista de los elementos del vector\n",
    "v. Por ejemplo, \n",
    "~~~\n",
    "ghci> v = listaVector [3,2,5]\n",
    "ghci> v\n",
    "fromList [3,2,5]\n",
    "ghci> vectorLista v\n",
    "[3,2,5]\n",
    "~~~\n",
    "---"
   ]
  },
  {
   "cell_type": "code",
   "execution_count": 16,
   "metadata": {
    "collapsed": true,
    "jupyter": {
     "outputs_hidden": true
    }
   },
   "outputs": [],
   "source": [
    "vectorLista :: Num a => V.Vector a -> [a]\n",
    "vectorLista = undefined"
   ]
  },
  {
   "cell_type": "code",
   "execution_count": 17,
   "metadata": {
    "collapsed": true,
    "jupyter": {
     "outputs_hidden": true
    }
   },
   "outputs": [
    {
     "ename": "",
     "evalue": "",
     "header": "MessageHeader {mhIdentifiers = [\"6ed6f3d1-63da-49e1-adcf-d5b55d9114ae\"], mhParentHeader = Just (MessageHeader {mhIdentifiers = [\"6ed6f3d1-63da-49e1-adcf-d5b55d9114ae\"], mhParentHeader = Nothing, mhMetadata = Metadata (fromList [(\"deletedCells\",Array [String \"55f75c61-e59d-4ced-86c9-1bdc1060149d\"]),(\"cellId\",String \"de072ff0-dcb9-4d6e-92b9-a3fc77f9076c\")]), mhMessageId = UUID {uuidToString = \"84b1068e-8f85-40fd-a391-da03d1b4bf62\"}, mhSessionId = UUID {uuidToString = \"6ed6f3d1-63da-49e1-adcf-d5b55d9114ae\"}, mhUsername = \"\", mhMsgType = ExecuteRequestMessage}), mhMetadata = Metadata (fromList []), mhMessageId = UUID {uuidToString = \"da794b32-6e59-4900-b963-6229ae2b1738\"}, mhSessionId = UUID {uuidToString = \"6ed6f3d1-63da-49e1-adcf-d5b55d9114ae\"}, mhUsername = \"\", mhMsgType = ExecuteErrorMessage}",
     "output_type": "error",
     "traceback": [
      "Prelude.undefined\nCallStack (from HasCallStack):\n  error, called at libraries/base/GHC/Err.hs:78:14 in base:GHC.Err\n  undefined, called at <interactive>:2:15 in interactive:Ghci37"
     ]
    }
   ],
   "source": [
    "v = listaVector [3,2,5]\n",
    "v"
   ]
  },
  {
   "cell_type": "code",
   "execution_count": 18,
   "metadata": {
    "collapsed": true,
    "jupyter": {
     "outputs_hidden": true
    }
   },
   "outputs": [
    {
     "ename": "",
     "evalue": "",
     "header": "MessageHeader {mhIdentifiers = [\"6ed6f3d1-63da-49e1-adcf-d5b55d9114ae\"], mhParentHeader = Just (MessageHeader {mhIdentifiers = [\"6ed6f3d1-63da-49e1-adcf-d5b55d9114ae\"], mhParentHeader = Nothing, mhMetadata = Metadata (fromList [(\"deletedCells\",Array [String \"55f75c61-e59d-4ced-86c9-1bdc1060149d\"]),(\"cellId\",String \"338fd9aa-fdd3-460f-8e9e-6f2277a84c77\")]), mhMessageId = UUID {uuidToString = \"8032aeca-f9a2-4c84-b8b1-dfc764007ea6\"}, mhSessionId = UUID {uuidToString = \"6ed6f3d1-63da-49e1-adcf-d5b55d9114ae\"}, mhUsername = \"\", mhMsgType = ExecuteRequestMessage}), mhMetadata = Metadata (fromList []), mhMessageId = UUID {uuidToString = \"7cc592c3-e0ce-40bb-bbb9-a80df6a98671\"}, mhSessionId = UUID {uuidToString = \"6ed6f3d1-63da-49e1-adcf-d5b55d9114ae\"}, mhUsername = \"\", mhMsgType = ExecuteErrorMessage}",
     "output_type": "error",
     "traceback": [
      "Prelude.undefined\nCallStack (from HasCallStack):\n  error, called at libraries/base/GHC/Err.hs:78:14 in base:GHC.Err\n  undefined, called at <interactive>:2:15 in interactive:Ghci258"
     ]
    }
   ],
   "source": [
    "vectorLista v"
   ]
  },
  {
   "cell_type": "markdown",
   "metadata": {},
   "source": [
    "## Suma de matrices                                                  \n",
    "\n",
    "---\n",
    "**Ejercicio 9**. Definir la función\n",
    "~~~\n",
    "sumaMatrices:: Num a => Matrix a -> Matrix a -> Matrix a\n",
    "~~~\n",
    "tal que (sumaMatrices x y) es la suma de las matrices x e y. Por\n",
    "ejemplo, \n",
    "~~~\n",
    "ghci> m1 = listaMatriz [[5,1,0],[3,2,6]]\n",
    "ghci> m2 = listaMatriz [[4,6,3],[1,5,2]]\n",
    "ghci> sumaMatrices m1 m2\n",
    "( 9 7 3 )\n",
    "( 4 7 8 )\n",
    "~~~\n",
    "---"
   ]
  },
  {
   "cell_type": "code",
   "execution_count": 19,
   "metadata": {
    "collapsed": true,
    "jupyter": {
     "outputs_hidden": true
    }
   },
   "outputs": [],
   "source": [
    "sumaMatrices :: Num a => Matrix a -> Matrix a -> Matrix a\n",
    "sumaMatrices = undefined"
   ]
  },
  {
   "cell_type": "code",
   "execution_count": 20,
   "metadata": {
    "collapsed": true,
    "jupyter": {
     "outputs_hidden": true
    }
   },
   "outputs": [
    {
     "ename": "",
     "evalue": "",
     "header": "MessageHeader {mhIdentifiers = [\"6ed6f3d1-63da-49e1-adcf-d5b55d9114ae\"], mhParentHeader = Just (MessageHeader {mhIdentifiers = [\"6ed6f3d1-63da-49e1-adcf-d5b55d9114ae\"], mhParentHeader = Nothing, mhMetadata = Metadata (fromList [(\"deletedCells\",Array [String \"55f75c61-e59d-4ced-86c9-1bdc1060149d\"]),(\"cellId\",String \"16903677-c340-4610-87de-06e519bf7d37\")]), mhMessageId = UUID {uuidToString = \"e33a7dde-c195-4945-aad5-d70482853cf2\"}, mhSessionId = UUID {uuidToString = \"6ed6f3d1-63da-49e1-adcf-d5b55d9114ae\"}, mhUsername = \"\", mhMsgType = ExecuteRequestMessage}), mhMetadata = Metadata (fromList []), mhMessageId = UUID {uuidToString = \"4cc2f83f-66e9-49eb-848f-a5b3ba7d3c5e\"}, mhSessionId = UUID {uuidToString = \"6ed6f3d1-63da-49e1-adcf-d5b55d9114ae\"}, mhUsername = \"\", mhMsgType = ExecuteErrorMessage}",
     "output_type": "error",
     "traceback": [
      "Prelude.undefined\nCallStack (from HasCallStack):\n  error, called at libraries/base/GHC/Err.hs:78:14 in base:GHC.Err\n  undefined, called at <interactive>:2:16 in interactive:Ghci309"
     ]
    }
   ],
   "source": [
    "m1 = listaMatriz [[5,1,0],[3,2,6]]\n",
    "m2 = listaMatriz [[4,6,3],[1,5,2]]\n",
    "sumaMatrices m1 m2"
   ]
  },
  {
   "cell_type": "markdown",
   "metadata": {},
   "source": [
    "---\n",
    "**Ejercicio 10**. Definir la función\n",
    "~~~\n",
    "filaMat :: Num a => Int -> Matrix a -> V.Vector a\n",
    "~~~\n",
    "tal que (filaMat i p) es el vector correspondiente a la fila i-ésima\n",
    "de la matriz p. Por ejemplo,\n",
    "~~~\n",
    "ghci> p = listaMatriz [[5,1,0],[3,2,6],[4,5,7]]\n",
    "ghci> filaMat 2 p\n",
    "fromList [3,2,6]\n",
    "ghci> vectorLista (filaMat 2 p)\n",
    "[3,2,6]\n",
    "~~~\n",
    "---"
   ]
  },
  {
   "cell_type": "code",
   "execution_count": 21,
   "metadata": {
    "collapsed": true,
    "jupyter": {
     "outputs_hidden": true
    }
   },
   "outputs": [],
   "source": [
    "filaMat :: Num a => Int -> Matrix a -> V.Vector a\n",
    "filaMat = undefined"
   ]
  },
  {
   "cell_type": "code",
   "execution_count": 22,
   "metadata": {
    "collapsed": true,
    "jupyter": {
     "outputs_hidden": true
    }
   },
   "outputs": [
    {
     "ename": "",
     "evalue": "",
     "header": "MessageHeader {mhIdentifiers = [\"6ed6f3d1-63da-49e1-adcf-d5b55d9114ae\"], mhParentHeader = Just (MessageHeader {mhIdentifiers = [\"6ed6f3d1-63da-49e1-adcf-d5b55d9114ae\"], mhParentHeader = Nothing, mhMetadata = Metadata (fromList [(\"deletedCells\",Array [String \"55f75c61-e59d-4ced-86c9-1bdc1060149d\"]),(\"cellId\",String \"e945d07d-bb0b-4e03-aed5-231794cc1f04\")]), mhMessageId = UUID {uuidToString = \"1360d81c-04bf-4556-9f42-116cd60d37af\"}, mhSessionId = UUID {uuidToString = \"6ed6f3d1-63da-49e1-adcf-d5b55d9114ae\"}, mhUsername = \"\", mhMsgType = ExecuteRequestMessage}), mhMetadata = Metadata (fromList []), mhMessageId = UUID {uuidToString = \"9e8bad34-9643-45aa-b529-c2a31948fbdd\"}, mhSessionId = UUID {uuidToString = \"6ed6f3d1-63da-49e1-adcf-d5b55d9114ae\"}, mhUsername = \"\", mhMsgType = ExecuteErrorMessage}",
     "output_type": "error",
     "traceback": [
      "Prelude.undefined\nCallStack (from HasCallStack):\n  error, called at libraries/base/GHC/Err.hs:78:14 in base:GHC.Err\n  undefined, called at <interactive>:2:11 in interactive:Ghci344"
     ]
    }
   ],
   "source": [
    "p = listaMatriz [[5,1,0],[3,2,6],[4,5,7]]\n",
    "filaMat 2 p"
   ]
  },
  {
   "cell_type": "code",
   "execution_count": 23,
   "metadata": {
    "collapsed": true,
    "jupyter": {
     "outputs_hidden": true
    }
   },
   "outputs": [
    {
     "ename": "",
     "evalue": "",
     "header": "MessageHeader {mhIdentifiers = [\"6ed6f3d1-63da-49e1-adcf-d5b55d9114ae\"], mhParentHeader = Just (MessageHeader {mhIdentifiers = [\"6ed6f3d1-63da-49e1-adcf-d5b55d9114ae\"], mhParentHeader = Nothing, mhMetadata = Metadata (fromList [(\"deletedCells\",Array [String \"55f75c61-e59d-4ced-86c9-1bdc1060149d\"]),(\"cellId\",String \"6b610dd8-8009-4b67-b384-46ba1513a08c\")]), mhMessageId = UUID {uuidToString = \"19b3912a-ad30-44c5-8288-f5639a90ff15\"}, mhSessionId = UUID {uuidToString = \"6ed6f3d1-63da-49e1-adcf-d5b55d9114ae\"}, mhUsername = \"\", mhMsgType = ExecuteRequestMessage}), mhMetadata = Metadata (fromList []), mhMessageId = UUID {uuidToString = \"4d29515a-3b70-463f-9ab2-588c2effca1f\"}, mhSessionId = UUID {uuidToString = \"6ed6f3d1-63da-49e1-adcf-d5b55d9114ae\"}, mhUsername = \"\", mhMsgType = ExecuteErrorMessage}",
     "output_type": "error",
     "traceback": [
      "Prelude.undefined\nCallStack (from HasCallStack):\n  error, called at libraries/base/GHC/Err.hs:78:14 in base:GHC.Err\n  undefined, called at <interactive>:2:15 in interactive:Ghci258"
     ]
    }
   ],
   "source": [
    "vectorLista (filaMat 2 p)"
   ]
  },
  {
   "cell_type": "markdown",
   "metadata": {},
   "source": [
    "---\n",
    "**Ejercicio 11**. Definir la función\n",
    "~~~\n",
    "columnaMat :: Num a => Int -> Matrix a -> V.Vector a\n",
    "~~~\n",
    "tal que (columnaMat j p) es el vector correspondiente a la columna\n",
    "j-ésima de la matriz p. Por ejemplo,\n",
    "~~~\n",
    "ghci> p = listaMatriz [[5,1,0],[3,2,6],[4,5,7]]\n",
    "ghci> columnaMat 2 p\n",
    "fromList [1,2,5]\n",
    "ghci> vectorLista (columnaMat 2 p)\n",
    "[1,2,5]\n",
    "~~~\n",
    "---"
   ]
  },
  {
   "cell_type": "code",
   "execution_count": 24,
   "metadata": {
    "collapsed": true,
    "jupyter": {
     "outputs_hidden": true
    }
   },
   "outputs": [],
   "source": [
    "columnaMat :: Num a => Int -> Matrix a -> V.Vector a\n",
    "columnaMat = undefined"
   ]
  },
  {
   "cell_type": "code",
   "execution_count": 25,
   "metadata": {
    "collapsed": true,
    "jupyter": {
     "outputs_hidden": true
    }
   },
   "outputs": [
    {
     "ename": "",
     "evalue": "",
     "header": "MessageHeader {mhIdentifiers = [\"6ed6f3d1-63da-49e1-adcf-d5b55d9114ae\"], mhParentHeader = Just (MessageHeader {mhIdentifiers = [\"6ed6f3d1-63da-49e1-adcf-d5b55d9114ae\"], mhParentHeader = Nothing, mhMetadata = Metadata (fromList [(\"deletedCells\",Array [String \"55f75c61-e59d-4ced-86c9-1bdc1060149d\"]),(\"cellId\",String \"f9ffef97-6a47-4b80-8708-cdcad7f56cdb\")]), mhMessageId = UUID {uuidToString = \"049b90f4-033a-41b2-aa81-85d3dda7fce6\"}, mhSessionId = UUID {uuidToString = \"6ed6f3d1-63da-49e1-adcf-d5b55d9114ae\"}, mhUsername = \"\", mhMsgType = ExecuteRequestMessage}), mhMetadata = Metadata (fromList []), mhMessageId = UUID {uuidToString = \"92b7641b-0649-4b8d-8c5f-3061545a7039\"}, mhSessionId = UUID {uuidToString = \"6ed6f3d1-63da-49e1-adcf-d5b55d9114ae\"}, mhUsername = \"\", mhMsgType = ExecuteErrorMessage}",
     "output_type": "error",
     "traceback": [
      "Prelude.undefined\nCallStack (from HasCallStack):\n  error, called at libraries/base/GHC/Err.hs:78:14 in base:GHC.Err\n  undefined, called at <interactive>:2:14 in interactive:Ghci395"
     ]
    }
   ],
   "source": [
    "p = listaMatriz [[5,1,0],[3,2,6],[4,5,7]]\n",
    "columnaMat 2 p"
   ]
  },
  {
   "cell_type": "code",
   "execution_count": 26,
   "metadata": {
    "collapsed": true,
    "jupyter": {
     "outputs_hidden": true
    }
   },
   "outputs": [
    {
     "ename": "",
     "evalue": "",
     "header": "MessageHeader {mhIdentifiers = [\"6ed6f3d1-63da-49e1-adcf-d5b55d9114ae\"], mhParentHeader = Just (MessageHeader {mhIdentifiers = [\"6ed6f3d1-63da-49e1-adcf-d5b55d9114ae\"], mhParentHeader = Nothing, mhMetadata = Metadata (fromList [(\"deletedCells\",Array [String \"55f75c61-e59d-4ced-86c9-1bdc1060149d\"]),(\"cellId\",String \"707b2ee6-43fc-4c6e-ae26-503039cca492\")]), mhMessageId = UUID {uuidToString = \"6a6f42ce-755b-4acd-85ed-00ac434e2b92\"}, mhSessionId = UUID {uuidToString = \"6ed6f3d1-63da-49e1-adcf-d5b55d9114ae\"}, mhUsername = \"\", mhMsgType = ExecuteRequestMessage}), mhMetadata = Metadata (fromList []), mhMessageId = UUID {uuidToString = \"64a25092-37e5-4ec5-8161-19b432b4591d\"}, mhSessionId = UUID {uuidToString = \"6ed6f3d1-63da-49e1-adcf-d5b55d9114ae\"}, mhUsername = \"\", mhMsgType = ExecuteErrorMessage}",
     "output_type": "error",
     "traceback": [
      "Prelude.undefined\nCallStack (from HasCallStack):\n  error, called at libraries/base/GHC/Err.hs:78:14 in base:GHC.Err\n  undefined, called at <interactive>:2:15 in interactive:Ghci258"
     ]
    }
   ],
   "source": [
    "vectorLista (columnaMat 2 p)"
   ]
  },
  {
   "cell_type": "markdown",
   "metadata": {},
   "source": [
    "## Producto de matrices                                              \n",
    "\n",
    "---\n",
    "**Ejercicio 12.** Definir la función\n",
    "~~~\n",
    "prodEscalar :: Num a => V.Vector a -> V.Vector a -> a\n",
    "~~~\n",
    "tal que (prodEscalar v1 v2) es el producto escalar de los vectores v1\n",
    "y v2. Por ejemplo,\n",
    "~~~\n",
    "ghci> v = listaVector [3,1,10]\n",
    "ghci> prodEscalar v v\n",
    "110\n",
    "~~~\n",
    "---"
   ]
  },
  {
   "cell_type": "code",
   "execution_count": 27,
   "metadata": {
    "collapsed": true,
    "jupyter": {
     "outputs_hidden": true
    }
   },
   "outputs": [],
   "source": [
    "prodEscalar :: Num a => V.Vector a -> V.Vector a -> a\n",
    "prodEscalar v1 v2 = undefined"
   ]
  },
  {
   "cell_type": "code",
   "execution_count": 28,
   "metadata": {
    "collapsed": true,
    "jupyter": {
     "outputs_hidden": true
    }
   },
   "outputs": [
    {
     "ename": "",
     "evalue": "",
     "header": "MessageHeader {mhIdentifiers = [\"6ed6f3d1-63da-49e1-adcf-d5b55d9114ae\"], mhParentHeader = Just (MessageHeader {mhIdentifiers = [\"6ed6f3d1-63da-49e1-adcf-d5b55d9114ae\"], mhParentHeader = Nothing, mhMetadata = Metadata (fromList [(\"deletedCells\",Array [String \"55f75c61-e59d-4ced-86c9-1bdc1060149d\"]),(\"cellId\",String \"1b56ef06-045c-4451-8fc3-e7d9e7883c77\")]), mhMessageId = UUID {uuidToString = \"1172edde-b616-4175-b357-adc6e99835ec\"}, mhSessionId = UUID {uuidToString = \"6ed6f3d1-63da-49e1-adcf-d5b55d9114ae\"}, mhUsername = \"\", mhMsgType = ExecuteRequestMessage}), mhMetadata = Metadata (fromList []), mhMessageId = UUID {uuidToString = \"3c47dd9c-958b-4832-b094-c7892be2435a\"}, mhSessionId = UUID {uuidToString = \"6ed6f3d1-63da-49e1-adcf-d5b55d9114ae\"}, mhUsername = \"\", mhMsgType = ExecuteErrorMessage}",
     "output_type": "error",
     "traceback": [
      "Prelude.undefined\nCallStack (from HasCallStack):\n  error, called at libraries/base/GHC/Err.hs:78:14 in base:GHC.Err\n  undefined, called at <interactive>:2:21 in interactive:Ghci446"
     ]
    }
   ],
   "source": [
    "v = listaVector [3,1,10]\n",
    "prodEscalar v v"
   ]
  },
  {
   "cell_type": "markdown",
   "metadata": {},
   "source": [
    "---\n",
    "**Ejercicio 13.** Definir la función\n",
    "~~~\n",
    "prodMatrices:: Num a => Matrix a -> Matrix a -> Matrix a\n",
    "~~~\n",
    "tal que (prodMatrices p q) es el producto de las matrices p y q. Por\n",
    "ejemplo,\n",
    "~~~\n",
    "ghci> p = listaMatriz [[3,1],[2,4]]\n",
    "ghci> prodMatrices p p\n",
    "( 11  7 )\n",
    "( 14 18 )\n",
    "ghci> q = listaMatriz [[7],[5]]\n",
    "ghci> prodMatrices p q\n",
    "( 26 )\n",
    "( 34 )\n",
    "~~~\n",
    "---"
   ]
  },
  {
   "cell_type": "code",
   "execution_count": 29,
   "metadata": {
    "collapsed": true,
    "jupyter": {
     "outputs_hidden": true
    }
   },
   "outputs": [],
   "source": [
    "prodMatrices :: Num a => Matrix a -> Matrix a -> Matrix a\n",
    "prodMatrices = undefined"
   ]
  },
  {
   "cell_type": "code",
   "execution_count": 30,
   "metadata": {
    "collapsed": true,
    "jupyter": {
     "outputs_hidden": true
    }
   },
   "outputs": [
    {
     "ename": "",
     "evalue": "",
     "header": "MessageHeader {mhIdentifiers = [\"6ed6f3d1-63da-49e1-adcf-d5b55d9114ae\"], mhParentHeader = Just (MessageHeader {mhIdentifiers = [\"6ed6f3d1-63da-49e1-adcf-d5b55d9114ae\"], mhParentHeader = Nothing, mhMetadata = Metadata (fromList [(\"deletedCells\",Array [String \"55f75c61-e59d-4ced-86c9-1bdc1060149d\"]),(\"cellId\",String \"e86019a6-3f10-4292-8a1c-504687bf3700\")]), mhMessageId = UUID {uuidToString = \"5ddf2d3b-dd00-4d88-94c6-66f1e1c3b3dc\"}, mhSessionId = UUID {uuidToString = \"6ed6f3d1-63da-49e1-adcf-d5b55d9114ae\"}, mhUsername = \"\", mhMsgType = ExecuteRequestMessage}), mhMetadata = Metadata (fromList []), mhMessageId = UUID {uuidToString = \"ca556c34-8d5c-45d5-b558-185ccce5f8a7\"}, mhSessionId = UUID {uuidToString = \"6ed6f3d1-63da-49e1-adcf-d5b55d9114ae\"}, mhUsername = \"\", mhMsgType = ExecuteErrorMessage}",
     "output_type": "error",
     "traceback": [
      "Prelude.undefined\nCallStack (from HasCallStack):\n  error, called at libraries/base/GHC/Err.hs:78:14 in base:GHC.Err\n  undefined, called at <interactive>:2:16 in interactive:Ghci481"
     ]
    }
   ],
   "source": [
    "p = listaMatriz [[3,1],[2,4]]\n",
    "prodMatrices p p"
   ]
  },
  {
   "cell_type": "code",
   "execution_count": 31,
   "metadata": {
    "collapsed": true,
    "jupyter": {
     "outputs_hidden": true
    }
   },
   "outputs": [
    {
     "ename": "",
     "evalue": "",
     "header": "MessageHeader {mhIdentifiers = [\"6ed6f3d1-63da-49e1-adcf-d5b55d9114ae\"], mhParentHeader = Just (MessageHeader {mhIdentifiers = [\"6ed6f3d1-63da-49e1-adcf-d5b55d9114ae\"], mhParentHeader = Nothing, mhMetadata = Metadata (fromList [(\"deletedCells\",Array [String \"55f75c61-e59d-4ced-86c9-1bdc1060149d\"]),(\"cellId\",String \"69171e2a-686a-4a66-bf7e-38a066fed518\")]), mhMessageId = UUID {uuidToString = \"feabaa9c-5248-4a1d-b328-f0d4aa566916\"}, mhSessionId = UUID {uuidToString = \"6ed6f3d1-63da-49e1-adcf-d5b55d9114ae\"}, mhUsername = \"\", mhMsgType = ExecuteRequestMessage}), mhMetadata = Metadata (fromList []), mhMessageId = UUID {uuidToString = \"26deff80-5df2-4636-a2c5-e11c6871520c\"}, mhSessionId = UUID {uuidToString = \"6ed6f3d1-63da-49e1-adcf-d5b55d9114ae\"}, mhUsername = \"\", mhMsgType = ExecuteErrorMessage}",
     "output_type": "error",
     "traceback": [
      "Prelude.undefined\nCallStack (from HasCallStack):\n  error, called at libraries/base/GHC/Err.hs:78:14 in base:GHC.Err\n  undefined, called at <interactive>:2:16 in interactive:Ghci481"
     ]
    }
   ],
   "source": [
    "q = listaMatriz [[7],[5]]\n",
    "prodMatrices p q"
   ]
  },
  {
   "cell_type": "markdown",
   "metadata": {},
   "source": [
    "## Traspuestas y simétricas                                           \n",
    "\n",
    "---\n",
    "**Ejercicio 14.** Definir la función\n",
    "~~~\n",
    "traspuesta :: Num a => Matrix a -> Matrix a\n",
    "~~~\n",
    "tal que (traspuesta p) es la traspuesta de la matriz p. Por ejemplo,\n",
    "~~~\n",
    "ghci> p = listaMatriz [[5,1,0],[3,2,6]]\n",
    "ghci> traspuesta p\n",
    "( 5 3 )\n",
    "( 1 2 )\n",
    "( 0 6 )\n",
    "~~~\n",
    "---"
   ]
  },
  {
   "cell_type": "code",
   "execution_count": 32,
   "metadata": {
    "collapsed": true,
    "jupyter": {
     "outputs_hidden": true
    }
   },
   "outputs": [],
   "source": [
    "traspuesta :: Num a => Matrix a -> Matrix a\n",
    "traspuesta = undefined"
   ]
  },
  {
   "cell_type": "code",
   "execution_count": 33,
   "metadata": {
    "collapsed": true,
    "jupyter": {
     "outputs_hidden": true
    }
   },
   "outputs": [
    {
     "ename": "",
     "evalue": "",
     "header": "MessageHeader {mhIdentifiers = [\"6ed6f3d1-63da-49e1-adcf-d5b55d9114ae\"], mhParentHeader = Just (MessageHeader {mhIdentifiers = [\"6ed6f3d1-63da-49e1-adcf-d5b55d9114ae\"], mhParentHeader = Nothing, mhMetadata = Metadata (fromList [(\"deletedCells\",Array [String \"55f75c61-e59d-4ced-86c9-1bdc1060149d\"]),(\"cellId\",String \"33fe8a07-5756-402b-8297-b523e18484ca\")]), mhMessageId = UUID {uuidToString = \"89802d09-ff1a-47e7-832b-efd2b040c475\"}, mhSessionId = UUID {uuidToString = \"6ed6f3d1-63da-49e1-adcf-d5b55d9114ae\"}, mhUsername = \"\", mhMsgType = ExecuteRequestMessage}), mhMetadata = Metadata (fromList []), mhMessageId = UUID {uuidToString = \"22954493-abf7-49f3-b029-ced4f78ec8a6\"}, mhSessionId = UUID {uuidToString = \"6ed6f3d1-63da-49e1-adcf-d5b55d9114ae\"}, mhUsername = \"\", mhMsgType = ExecuteErrorMessage}",
     "output_type": "error",
     "traceback": [
      "Prelude.undefined\nCallStack (from HasCallStack):\n  error, called at libraries/base/GHC/Err.hs:78:14 in base:GHC.Err\n  undefined, called at <interactive>:2:14 in interactive:Ghci533"
     ]
    }
   ],
   "source": [
    "p = listaMatriz [[5,1,0],[3,2,6]]\n",
    "traspuesta p"
   ]
  },
  {
   "cell_type": "markdown",
   "metadata": {},
   "source": [
    "---\n",
    "**Ejercicio 15.** Definir la función\n",
    "~~~\n",
    "esCuadrada :: Num a => Matrix a -> Bool\n",
    "~~~\n",
    "tal que (esCuadrada p) se verifica si la matriz p es cuadrada. Por\n",
    "ejemplo,\n",
    "~~~\n",
    "ghci> p = listaMatriz [[5,1,0],[3,2,6]]\n",
    "ghci> esCuadrada p\n",
    "False\n",
    "ghci> q = listaMatriz [[5,1],[3,2]]\n",
    "ghci> esCuadrada q\n",
    "True\n",
    "~~~\n",
    "---"
   ]
  },
  {
   "cell_type": "code",
   "execution_count": 34,
   "metadata": {
    "collapsed": true,
    "jupyter": {
     "outputs_hidden": true
    }
   },
   "outputs": [],
   "source": [
    "esCuadrada :: Num a => Matrix a -> Bool\n",
    "esCuadrada p = undefined"
   ]
  },
  {
   "cell_type": "code",
   "execution_count": 35,
   "metadata": {
    "collapsed": true,
    "jupyter": {
     "outputs_hidden": true
    }
   },
   "outputs": [
    {
     "ename": "",
     "evalue": "",
     "header": "MessageHeader {mhIdentifiers = [\"6ed6f3d1-63da-49e1-adcf-d5b55d9114ae\"], mhParentHeader = Just (MessageHeader {mhIdentifiers = [\"6ed6f3d1-63da-49e1-adcf-d5b55d9114ae\"], mhParentHeader = Nothing, mhMetadata = Metadata (fromList [(\"deletedCells\",Array [String \"55f75c61-e59d-4ced-86c9-1bdc1060149d\"]),(\"cellId\",String \"941fb64a-5c6c-4675-b757-784554812511\")]), mhMessageId = UUID {uuidToString = \"551d03e0-642f-4980-8f30-ab2bbb3f9c3a\"}, mhSessionId = UUID {uuidToString = \"6ed6f3d1-63da-49e1-adcf-d5b55d9114ae\"}, mhUsername = \"\", mhMsgType = ExecuteRequestMessage}), mhMetadata = Metadata (fromList []), mhMessageId = UUID {uuidToString = \"8f9c1b17-f2c8-470f-bcc5-7dabb194ee23\"}, mhSessionId = UUID {uuidToString = \"6ed6f3d1-63da-49e1-adcf-d5b55d9114ae\"}, mhUsername = \"\", mhMsgType = ExecuteErrorMessage}",
     "output_type": "error",
     "traceback": [
      "Prelude.undefined\nCallStack (from HasCallStack):\n  error, called at libraries/base/GHC/Err.hs:78:14 in base:GHC.Err\n  undefined, called at <interactive>:2:16 in interactive:Ghci568"
     ]
    }
   ],
   "source": [
    "p = listaMatriz [[5,1,0],[3,2,6]]\n",
    "esCuadrada p"
   ]
  },
  {
   "cell_type": "code",
   "execution_count": 36,
   "metadata": {
    "collapsed": true,
    "jupyter": {
     "outputs_hidden": true
    }
   },
   "outputs": [
    {
     "ename": "",
     "evalue": "",
     "header": "MessageHeader {mhIdentifiers = [\"6ed6f3d1-63da-49e1-adcf-d5b55d9114ae\"], mhParentHeader = Just (MessageHeader {mhIdentifiers = [\"6ed6f3d1-63da-49e1-adcf-d5b55d9114ae\"], mhParentHeader = Nothing, mhMetadata = Metadata (fromList [(\"deletedCells\",Array [String \"55f75c61-e59d-4ced-86c9-1bdc1060149d\"]),(\"cellId\",String \"f77fb055-cbf0-46d7-bf26-f767ee5a9019\")]), mhMessageId = UUID {uuidToString = \"797bf36c-a56d-479c-92fb-7c4749c966ec\"}, mhSessionId = UUID {uuidToString = \"6ed6f3d1-63da-49e1-adcf-d5b55d9114ae\"}, mhUsername = \"\", mhMsgType = ExecuteRequestMessage}), mhMetadata = Metadata (fromList []), mhMessageId = UUID {uuidToString = \"48052b36-e234-4ece-9607-f29e6386e346\"}, mhSessionId = UUID {uuidToString = \"6ed6f3d1-63da-49e1-adcf-d5b55d9114ae\"}, mhUsername = \"\", mhMsgType = ExecuteErrorMessage}",
     "output_type": "error",
     "traceback": [
      "Prelude.undefined\nCallStack (from HasCallStack):\n  error, called at libraries/base/GHC/Err.hs:78:14 in base:GHC.Err\n  undefined, called at <interactive>:2:16 in interactive:Ghci568"
     ]
    }
   ],
   "source": [
    "q = listaMatriz [[5,1],[3,2]]\n",
    "esCuadrada q"
   ]
  },
  {
   "cell_type": "markdown",
   "metadata": {},
   "source": [
    "---\n",
    "**Ejercicio 16.** Definir la función\n",
    "~~~\n",
    "esSimetrica :: (Num a, Eq a) => Matrix a -> Bool\n",
    "~~~\n",
    "tal que (esSimetrica p) se verifica si la matriz p es simétrica. Por\n",
    "ejemplo,\n",
    "~~~\n",
    "ghci> p = listaMatriz [[5,1,3],[1,4,7],[3,7,2]]\n",
    "ghci> esSimetrica p\n",
    "True\n",
    "ghci> q = listaMatriz [[5,1,3],[1,4,7],[3,4,2]]\n",
    "ghci> esSimetrica q\n",
    "False\n",
    "~~~\n",
    "---\n",
    " "
   ]
  },
  {
   "cell_type": "code",
   "execution_count": 37,
   "metadata": {
    "collapsed": true,
    "jupyter": {
     "outputs_hidden": true
    }
   },
   "outputs": [],
   "source": [
    "esSimetrica :: (Num a, Eq a) => Matrix a -> Bool\n",
    "esSimetrica x = undefined"
   ]
  },
  {
   "cell_type": "code",
   "execution_count": 38,
   "metadata": {
    "collapsed": true,
    "jupyter": {
     "outputs_hidden": true
    }
   },
   "outputs": [
    {
     "ename": "",
     "evalue": "",
     "header": "MessageHeader {mhIdentifiers = [\"6ed6f3d1-63da-49e1-adcf-d5b55d9114ae\"], mhParentHeader = Just (MessageHeader {mhIdentifiers = [\"6ed6f3d1-63da-49e1-adcf-d5b55d9114ae\"], mhParentHeader = Nothing, mhMetadata = Metadata (fromList [(\"deletedCells\",Array [String \"55f75c61-e59d-4ced-86c9-1bdc1060149d\"]),(\"cellId\",String \"d0db485d-8a12-4334-a924-02d3acffb5c2\")]), mhMessageId = UUID {uuidToString = \"2a7fbeaf-ba58-4eb3-8872-625b9eba98b8\"}, mhSessionId = UUID {uuidToString = \"6ed6f3d1-63da-49e1-adcf-d5b55d9114ae\"}, mhUsername = \"\", mhMsgType = ExecuteRequestMessage}), mhMetadata = Metadata (fromList []), mhMessageId = UUID {uuidToString = \"49378893-02f5-4423-88d3-ed0f563d8a94\"}, mhSessionId = UUID {uuidToString = \"6ed6f3d1-63da-49e1-adcf-d5b55d9114ae\"}, mhUsername = \"\", mhMsgType = ExecuteErrorMessage}",
     "output_type": "error",
     "traceback": [
      "Prelude.undefined\nCallStack (from HasCallStack):\n  error, called at libraries/base/GHC/Err.hs:78:14 in base:GHC.Err\n  undefined, called at <interactive>:2:17 in interactive:Ghci620"
     ]
    }
   ],
   "source": [
    "p = listaMatriz [[5,1,3],[1,4,7],[3,7,2]]\n",
    "esSimetrica p"
   ]
  },
  {
   "cell_type": "code",
   "execution_count": 39,
   "metadata": {
    "collapsed": true,
    "jupyter": {
     "outputs_hidden": true
    }
   },
   "outputs": [
    {
     "ename": "",
     "evalue": "",
     "header": "MessageHeader {mhIdentifiers = [\"6ed6f3d1-63da-49e1-adcf-d5b55d9114ae\"], mhParentHeader = Just (MessageHeader {mhIdentifiers = [\"6ed6f3d1-63da-49e1-adcf-d5b55d9114ae\"], mhParentHeader = Nothing, mhMetadata = Metadata (fromList [(\"deletedCells\",Array [String \"55f75c61-e59d-4ced-86c9-1bdc1060149d\"]),(\"cellId\",String \"bacf5539-95b1-47e8-93b7-71cf95ff5f12\")]), mhMessageId = UUID {uuidToString = \"8df1e58b-2403-482e-afd0-33e942fa2ee9\"}, mhSessionId = UUID {uuidToString = \"6ed6f3d1-63da-49e1-adcf-d5b55d9114ae\"}, mhUsername = \"\", mhMsgType = ExecuteRequestMessage}), mhMetadata = Metadata (fromList []), mhMessageId = UUID {uuidToString = \"ca03ca53-79e2-4d68-b2af-e33ccfa38452\"}, mhSessionId = UUID {uuidToString = \"6ed6f3d1-63da-49e1-adcf-d5b55d9114ae\"}, mhUsername = \"\", mhMsgType = ExecuteErrorMessage}",
     "output_type": "error",
     "traceback": [
      "Prelude.undefined\nCallStack (from HasCallStack):\n  error, called at libraries/base/GHC/Err.hs:78:14 in base:GHC.Err\n  undefined, called at <interactive>:2:17 in interactive:Ghci620"
     ]
    }
   ],
   "source": [
    "q = listaMatriz [[5,1,3],[1,4,7],[3,4,2]]\n",
    "esSimetrica q"
   ]
  },
  {
   "cell_type": "markdown",
   "metadata": {},
   "source": [
    "## Diagonales de una matriz                                           \n",
    "\n",
    "---\n",
    "**Ejercicio 17.** Definir la función\n",
    "~~~\n",
    "diagonalPral :: Num a => Matrix a -> V.Vector a\n",
    "~~~\n",
    "tal que (diagonalPral p) es la diagonal principal de la matriz p. Por\n",
    "ejemplo,\n",
    "~~~\n",
    "ghci> p = listaMatriz [[5,1,0],[3,2,6]]\n",
    "ghci> diagonalPral p\n",
    "fromList [5,2]\n",
    "~~~\n",
    "--- "
   ]
  },
  {
   "cell_type": "code",
   "execution_count": 40,
   "metadata": {
    "collapsed": true,
    "jupyter": {
     "outputs_hidden": true
    }
   },
   "outputs": [],
   "source": [
    "diagonalPral :: Num a => Matrix a -> V.Vector a\n",
    "diagonalPral = undefined"
   ]
  },
  {
   "cell_type": "code",
   "execution_count": 41,
   "metadata": {
    "collapsed": true,
    "jupyter": {
     "outputs_hidden": true
    }
   },
   "outputs": [
    {
     "ename": "",
     "evalue": "",
     "header": "MessageHeader {mhIdentifiers = [\"6ed6f3d1-63da-49e1-adcf-d5b55d9114ae\"], mhParentHeader = Just (MessageHeader {mhIdentifiers = [\"6ed6f3d1-63da-49e1-adcf-d5b55d9114ae\"], mhParentHeader = Nothing, mhMetadata = Metadata (fromList [(\"deletedCells\",Array [String \"55f75c61-e59d-4ced-86c9-1bdc1060149d\"]),(\"cellId\",String \"49748cf7-1757-444b-b91f-c799b3f5a212\")]), mhMessageId = UUID {uuidToString = \"666ad1b8-c96d-4461-a163-fad95bb64cf4\"}, mhSessionId = UUID {uuidToString = \"6ed6f3d1-63da-49e1-adcf-d5b55d9114ae\"}, mhUsername = \"\", mhMsgType = ExecuteRequestMessage}), mhMetadata = Metadata (fromList []), mhMessageId = UUID {uuidToString = \"f35a3d24-78dd-4eef-9d33-3dc96d283e50\"}, mhSessionId = UUID {uuidToString = \"6ed6f3d1-63da-49e1-adcf-d5b55d9114ae\"}, mhUsername = \"\", mhMsgType = ExecuteErrorMessage}",
     "output_type": "error",
     "traceback": [
      "Prelude.undefined\nCallStack (from HasCallStack):\n  error, called at libraries/base/GHC/Err.hs:78:14 in base:GHC.Err\n  undefined, called at <interactive>:2:16 in interactive:Ghci672"
     ]
    }
   ],
   "source": [
    "p = listaMatriz [[5,1,0],[3,2,6]]\n",
    "diagonalPral p"
   ]
  },
  {
   "cell_type": "markdown",
   "metadata": {},
   "source": [
    "---\n",
    "**Ejercicio 18.** Definir la función\n",
    "~~~\n",
    "diagonalSec :: Num a => Matrix a -> V.Vector a\n",
    "~~~\n",
    "tal que (diagonalSec p) es la diagonal secundaria de la matriz p. Por\n",
    "ejemplo,\n",
    "~~~\n",
    "ghci> p = listaMatriz [[5,1,0],[3,2,6]]\n",
    "ghci> diagonalSec p\n",
    "fromList [1,3]\n",
    "ghci> q = traspuesta p\n",
    "ghci> matrizLista q\n",
    "[[5,3],[1,2],[0,6]]\n",
    "ghci> diagonalSec q\n",
    "fromList [1,2]\n",
    "~~~\n",
    "---"
   ]
  },
  {
   "cell_type": "code",
   "execution_count": 42,
   "metadata": {
    "collapsed": true,
    "jupyter": {
     "outputs_hidden": true
    }
   },
   "outputs": [],
   "source": [
    "diagonalSec :: Num a => Matrix a -> V.Vector a\n",
    "diagonalSec p = undefined"
   ]
  },
  {
   "cell_type": "code",
   "execution_count": 43,
   "metadata": {
    "collapsed": true,
    "jupyter": {
     "outputs_hidden": true
    }
   },
   "outputs": [
    {
     "ename": "",
     "evalue": "",
     "header": "MessageHeader {mhIdentifiers = [\"6ed6f3d1-63da-49e1-adcf-d5b55d9114ae\"], mhParentHeader = Just (MessageHeader {mhIdentifiers = [\"6ed6f3d1-63da-49e1-adcf-d5b55d9114ae\"], mhParentHeader = Nothing, mhMetadata = Metadata (fromList [(\"deletedCells\",Array [String \"55f75c61-e59d-4ced-86c9-1bdc1060149d\"]),(\"cellId\",String \"d1e2b547-7008-402c-b9cc-36c6571bb560\")]), mhMessageId = UUID {uuidToString = \"02545c04-54cf-49c7-8732-891eacb7675e\"}, mhSessionId = UUID {uuidToString = \"6ed6f3d1-63da-49e1-adcf-d5b55d9114ae\"}, mhUsername = \"\", mhMsgType = ExecuteRequestMessage}), mhMetadata = Metadata (fromList []), mhMessageId = UUID {uuidToString = \"41751c6f-e75b-4c34-8d94-9aa91fdd87ce\"}, mhSessionId = UUID {uuidToString = \"6ed6f3d1-63da-49e1-adcf-d5b55d9114ae\"}, mhUsername = \"\", mhMsgType = ExecuteErrorMessage}",
     "output_type": "error",
     "traceback": [
      "Prelude.undefined\nCallStack (from HasCallStack):\n  error, called at libraries/base/GHC/Err.hs:78:14 in base:GHC.Err\n  undefined, called at <interactive>:2:17 in interactive:Ghci707"
     ]
    }
   ],
   "source": [
    "p = listaMatriz [[5,1,0],[3,2,6]]\n",
    "diagonalSec p"
   ]
  },
  {
   "cell_type": "code",
   "execution_count": 44,
   "metadata": {
    "collapsed": true,
    "jupyter": {
     "outputs_hidden": true
    }
   },
   "outputs": [
    {
     "ename": "",
     "evalue": "",
     "header": "MessageHeader {mhIdentifiers = [\"6ed6f3d1-63da-49e1-adcf-d5b55d9114ae\"], mhParentHeader = Just (MessageHeader {mhIdentifiers = [\"6ed6f3d1-63da-49e1-adcf-d5b55d9114ae\"], mhParentHeader = Nothing, mhMetadata = Metadata (fromList [(\"deletedCells\",Array [String \"55f75c61-e59d-4ced-86c9-1bdc1060149d\"]),(\"cellId\",String \"4efae3f4-a384-407d-a7bf-7ea6c0a81588\")]), mhMessageId = UUID {uuidToString = \"4439fcb8-b4fb-4fdc-a2c4-8235ae68e0ec\"}, mhSessionId = UUID {uuidToString = \"6ed6f3d1-63da-49e1-adcf-d5b55d9114ae\"}, mhUsername = \"\", mhMsgType = ExecuteRequestMessage}), mhMetadata = Metadata (fromList []), mhMessageId = UUID {uuidToString = \"17a83fcf-e596-422d-9395-db10759b4fa4\"}, mhSessionId = UUID {uuidToString = \"6ed6f3d1-63da-49e1-adcf-d5b55d9114ae\"}, mhUsername = \"\", mhMsgType = ExecuteErrorMessage}",
     "output_type": "error",
     "traceback": [
      "Prelude.undefined\nCallStack (from HasCallStack):\n  error, called at libraries/base/GHC/Err.hs:78:14 in base:GHC.Err\n  undefined, called at <interactive>:2:15 in interactive:Ghci207"
     ]
    }
   ],
   "source": [
    "q = traspuesta p\n",
    "matrizLista q"
   ]
  },
  {
   "cell_type": "code",
   "execution_count": 45,
   "metadata": {
    "collapsed": true,
    "jupyter": {
     "outputs_hidden": true
    }
   },
   "outputs": [
    {
     "ename": "",
     "evalue": "",
     "header": "MessageHeader {mhIdentifiers = [\"6ed6f3d1-63da-49e1-adcf-d5b55d9114ae\"], mhParentHeader = Just (MessageHeader {mhIdentifiers = [\"6ed6f3d1-63da-49e1-adcf-d5b55d9114ae\"], mhParentHeader = Nothing, mhMetadata = Metadata (fromList [(\"deletedCells\",Array [String \"55f75c61-e59d-4ced-86c9-1bdc1060149d\"]),(\"cellId\",String \"670aea66-f79f-46cd-a1f8-1da3c1036029\")]), mhMessageId = UUID {uuidToString = \"7f1fa6d0-b430-422b-bca5-b747611ec47a\"}, mhSessionId = UUID {uuidToString = \"6ed6f3d1-63da-49e1-adcf-d5b55d9114ae\"}, mhUsername = \"\", mhMsgType = ExecuteRequestMessage}), mhMetadata = Metadata (fromList []), mhMessageId = UUID {uuidToString = \"dd11f7dc-db84-406e-8d12-113d9cfa06b9\"}, mhSessionId = UUID {uuidToString = \"6ed6f3d1-63da-49e1-adcf-d5b55d9114ae\"}, mhUsername = \"\", mhMsgType = ExecuteErrorMessage}",
     "output_type": "error",
     "traceback": [
      "Prelude.undefined\nCallStack (from HasCallStack):\n  error, called at libraries/base/GHC/Err.hs:78:14 in base:GHC.Err\n  undefined, called at <interactive>:2:17 in interactive:Ghci707"
     ]
    }
   ],
   "source": [
    "diagonalSec q"
   ]
  },
  {
   "cell_type": "markdown",
   "metadata": {},
   "source": [
    "## Submatrices                                                       \n",
    "\n",
    "---\n",
    "**Ejercicio 19.** Definir la función\n",
    "~~~\n",
    "submatriz :: Num a => Int -> Int -> Matrix a -> Matrix a\n",
    "~~~\n",
    "tal que (submatriz i j p) es la matriz obtenida a partir de la p\n",
    "eliminando la fila i y la columna j. Por ejemplo,\n",
    "~~~\n",
    "ghci> p = listaMatriz [[5,1,0],[3,2,6],[4,6,9]]\n",
    "ghci> submatriz 2 3 p\n",
    "( 5 1 )\n",
    "( 4 6 )\n",
    "~~~\n",
    "---"
   ]
  },
  {
   "cell_type": "code",
   "execution_count": 46,
   "metadata": {
    "collapsed": true,
    "jupyter": {
     "outputs_hidden": true
    }
   },
   "outputs": [],
   "source": [
    "submatriz :: Num a => Int -> Int -> Matrix a -> Matrix a\n",
    "submatriz = undefined"
   ]
  },
  {
   "cell_type": "code",
   "execution_count": 47,
   "metadata": {
    "collapsed": true,
    "jupyter": {
     "outputs_hidden": true
    }
   },
   "outputs": [
    {
     "ename": "",
     "evalue": "",
     "header": "MessageHeader {mhIdentifiers = [\"6ed6f3d1-63da-49e1-adcf-d5b55d9114ae\"], mhParentHeader = Just (MessageHeader {mhIdentifiers = [\"6ed6f3d1-63da-49e1-adcf-d5b55d9114ae\"], mhParentHeader = Nothing, mhMetadata = Metadata (fromList [(\"deletedCells\",Array [String \"55f75c61-e59d-4ced-86c9-1bdc1060149d\"]),(\"cellId\",String \"e2b2d159-421e-4875-b97d-a68a5a0a705b\")]), mhMessageId = UUID {uuidToString = \"f575e1d2-f458-4dde-95c8-0e4d98b662f9\"}, mhSessionId = UUID {uuidToString = \"6ed6f3d1-63da-49e1-adcf-d5b55d9114ae\"}, mhUsername = \"\", mhMsgType = ExecuteRequestMessage}), mhMetadata = Metadata (fromList []), mhMessageId = UUID {uuidToString = \"4b4efab0-521b-40c2-982d-982989dc4fd1\"}, mhSessionId = UUID {uuidToString = \"6ed6f3d1-63da-49e1-adcf-d5b55d9114ae\"}, mhUsername = \"\", mhMsgType = ExecuteErrorMessage}",
     "output_type": "error",
     "traceback": [
      "Prelude.undefined\nCallStack (from HasCallStack):\n  error, called at libraries/base/GHC/Err.hs:78:14 in base:GHC.Err\n  undefined, called at <interactive>:2:13 in interactive:Ghci775"
     ]
    }
   ],
   "source": [
    "p = listaMatriz [[5,1,0],[3,2,6],[4,6,9]]\n",
    "submatriz 2 3 p"
   ]
  },
  {
   "cell_type": "markdown",
   "metadata": {},
   "source": [
    "## Transformaciones elementales                     \n",
    "\n",
    "---\n",
    "**Ejercicio 20.** Definir la función\n",
    "~~~\n",
    "intercambiaFilas :: Num a => Int -> Int -> Matrix a -> Matrix a\n",
    "~~~\n",
    "tal que (intercambiaFilas k l p) es la matriz obtenida intercambiando\n",
    "las filas k y l de la matriz p. Por ejemplo,\n",
    "~~~\n",
    "ghci> p = listaMatriz [[5,1,0],[3,2,6],[4,6,9]]\n",
    "ghci> intercambiaFilas 1 3 p\n",
    "( 4 6 9 )\n",
    "( 3 2 6 )\n",
    "( 5 1 0 )\n",
    "~~~\n",
    "---"
   ]
  },
  {
   "cell_type": "code",
   "execution_count": 48,
   "metadata": {
    "collapsed": true,
    "jupyter": {
     "outputs_hidden": true
    }
   },
   "outputs": [],
   "source": [
    "intercambiaFilas :: Num a => Int -> Int -> Matrix a -> Matrix a\n",
    "intercambiaFilas = undefined"
   ]
  },
  {
   "cell_type": "code",
   "execution_count": 49,
   "metadata": {
    "collapsed": true,
    "jupyter": {
     "outputs_hidden": true
    }
   },
   "outputs": [
    {
     "ename": "",
     "evalue": "",
     "header": "MessageHeader {mhIdentifiers = [\"6ed6f3d1-63da-49e1-adcf-d5b55d9114ae\"], mhParentHeader = Just (MessageHeader {mhIdentifiers = [\"6ed6f3d1-63da-49e1-adcf-d5b55d9114ae\"], mhParentHeader = Nothing, mhMetadata = Metadata (fromList [(\"deletedCells\",Array [String \"55f75c61-e59d-4ced-86c9-1bdc1060149d\"]),(\"cellId\",String \"c9733889-85dc-4ce8-bc06-def14db5c671\")]), mhMessageId = UUID {uuidToString = \"0c48443d-0b3b-4f85-be08-91d0ab8ac9ad\"}, mhSessionId = UUID {uuidToString = \"6ed6f3d1-63da-49e1-adcf-d5b55d9114ae\"}, mhUsername = \"\", mhMsgType = ExecuteRequestMessage}), mhMetadata = Metadata (fromList []), mhMessageId = UUID {uuidToString = \"ed1a1f95-32cd-4013-9cf2-0ef1699f58f3\"}, mhSessionId = UUID {uuidToString = \"6ed6f3d1-63da-49e1-adcf-d5b55d9114ae\"}, mhUsername = \"\", mhMsgType = ExecuteErrorMessage}",
     "output_type": "error",
     "traceback": [
      "Prelude.undefined\nCallStack (from HasCallStack):\n  error, called at libraries/base/GHC/Err.hs:78:14 in base:GHC.Err\n  undefined, called at <interactive>:2:20 in interactive:Ghci810"
     ]
    }
   ],
   "source": [
    "p = listaMatriz [[5,1,0],[3,2,6],[4,6,9]]\n",
    "intercambiaFilas 1 3 p"
   ]
  },
  {
   "cell_type": "markdown",
   "metadata": {},
   "source": [
    "---\n",
    "**Ejercicio 21.** Definir la función\n",
    "~~~\n",
    "intercambiaColumnas :: Num a => Int -> Int -> Matrix a -> Matrix a\n",
    "~~~\n",
    "tal que (intercambiaColumnas k l p) es la matriz obtenida\n",
    "intercambiando las columnas k y l de la matriz p. Por ejemplo,\n",
    "~~~\n",
    "ghci> p = listaMatriz [[5,1,0],[3,2,6],[4,6,9]]\n",
    "ghci> intercambiaColumnas 1 3 p\n",
    "( 0 1 5 )\n",
    "( 6 2 3 )\n",
    "( 9 6 4 )\n",
    "~~~\n",
    "---"
   ]
  },
  {
   "cell_type": "code",
   "execution_count": 50,
   "metadata": {
    "collapsed": true,
    "jupyter": {
     "outputs_hidden": true
    }
   },
   "outputs": [],
   "source": [
    "intercambiaColumnas :: Num a => Int -> Int -> Matrix a -> Matrix a\n",
    "intercambiaColumnas = undefined"
   ]
  },
  {
   "cell_type": "code",
   "execution_count": 51,
   "metadata": {
    "collapsed": true,
    "jupyter": {
     "outputs_hidden": true
    }
   },
   "outputs": [
    {
     "ename": "",
     "evalue": "",
     "header": "MessageHeader {mhIdentifiers = [\"6ed6f3d1-63da-49e1-adcf-d5b55d9114ae\"], mhParentHeader = Just (MessageHeader {mhIdentifiers = [\"6ed6f3d1-63da-49e1-adcf-d5b55d9114ae\"], mhParentHeader = Nothing, mhMetadata = Metadata (fromList [(\"deletedCells\",Array [String \"55f75c61-e59d-4ced-86c9-1bdc1060149d\"]),(\"cellId\",String \"528080c2-689a-4ecf-b31d-80f0f8504ca8\")]), mhMessageId = UUID {uuidToString = \"4f82c8b7-0508-4243-937a-5a093ef32241\"}, mhSessionId = UUID {uuidToString = \"6ed6f3d1-63da-49e1-adcf-d5b55d9114ae\"}, mhUsername = \"\", mhMsgType = ExecuteRequestMessage}), mhMetadata = Metadata (fromList []), mhMessageId = UUID {uuidToString = \"9dae17d4-a9de-4843-9bf1-3990f7d6cd4c\"}, mhSessionId = UUID {uuidToString = \"6ed6f3d1-63da-49e1-adcf-d5b55d9114ae\"}, mhUsername = \"\", mhMsgType = ExecuteErrorMessage}",
     "output_type": "error",
     "traceback": [
      "Prelude.undefined\nCallStack (from HasCallStack):\n  error, called at libraries/base/GHC/Err.hs:78:14 in base:GHC.Err\n  undefined, called at <interactive>:2:23 in interactive:Ghci845"
     ]
    }
   ],
   "source": [
    "p = listaMatriz [[5,1,0],[3,2,6],[4,6,9]]\n",
    "intercambiaColumnas 1 3 p"
   ]
  },
  {
   "cell_type": "markdown",
   "metadata": {},
   "source": [
    "---\n",
    "**Ejercicio 22.** Definir la función\n",
    "~~~\n",
    "multFilaPor :: Num a => Int -> a -> Matrix a -> Matrix a\n",
    "~~~\n",
    "tal que (multFilaPor k x p) es la matriz obtenida multiplicando la\n",
    "fila k de la matriz p por el número x. Por ejemplo,\n",
    "~~~\n",
    "ghci> p = listaMatriz [[5,1,0],[3,2,6],[4,6,9]]\n",
    "ghci> multFilaPor 2 3 p\n",
    "(  5  1  0 )\n",
    "(  9  6 18 )\n",
    "(  4  6  9 )\n",
    "~~~\n",
    "---"
   ]
  },
  {
   "cell_type": "code",
   "execution_count": 52,
   "metadata": {
    "collapsed": true,
    "jupyter": {
     "outputs_hidden": true
    }
   },
   "outputs": [],
   "source": [
    "multFilaPor :: Num a => Int -> a -> Matrix a -> Matrix a\n",
    "multFilaPor k x p = undefined"
   ]
  },
  {
   "cell_type": "code",
   "execution_count": 53,
   "metadata": {
    "collapsed": true,
    "jupyter": {
     "outputs_hidden": true
    }
   },
   "outputs": [
    {
     "ename": "",
     "evalue": "",
     "header": "MessageHeader {mhIdentifiers = [\"6ed6f3d1-63da-49e1-adcf-d5b55d9114ae\"], mhParentHeader = Just (MessageHeader {mhIdentifiers = [\"6ed6f3d1-63da-49e1-adcf-d5b55d9114ae\"], mhParentHeader = Nothing, mhMetadata = Metadata (fromList [(\"deletedCells\",Array [String \"55f75c61-e59d-4ced-86c9-1bdc1060149d\"]),(\"cellId\",String \"24dac39d-9368-4055-b513-694caa0d35d4\")]), mhMessageId = UUID {uuidToString = \"1e235d4e-587b-42fc-afb6-7320f2b1ba8b\"}, mhSessionId = UUID {uuidToString = \"6ed6f3d1-63da-49e1-adcf-d5b55d9114ae\"}, mhUsername = \"\", mhMsgType = ExecuteRequestMessage}), mhMetadata = Metadata (fromList []), mhMessageId = UUID {uuidToString = \"ab3fc550-9d8d-40e4-be75-9810e7379a63\"}, mhSessionId = UUID {uuidToString = \"6ed6f3d1-63da-49e1-adcf-d5b55d9114ae\"}, mhUsername = \"\", mhMsgType = ExecuteErrorMessage}",
     "output_type": "error",
     "traceback": [
      "Prelude.undefined\nCallStack (from HasCallStack):\n  error, called at libraries/base/GHC/Err.hs:78:14 in base:GHC.Err\n  undefined, called at <interactive>:2:21 in interactive:Ghci880"
     ]
    }
   ],
   "source": [
    "p = listaMatriz [[5,1,0],[3,2,6],[4,6,9]]\n",
    "multFilaPor 2 3 p"
   ]
  },
  {
   "cell_type": "markdown",
   "metadata": {},
   "source": [
    "---\n",
    "**Ejercicio 23.** Definir la función\n",
    "~~~\n",
    "sumaFilaFila :: Num a => Int -> Int -> Matrix a -> Matrix a\n",
    "~~~\n",
    "tal que (sumaFilaFila k l p) es la matriz obtenida sumando la fila l\n",
    "a la fila k de la matriz p. Por ejemplo,\n",
    "~~~\n",
    "ghci> p = listaMatriz [[5,1,0],[3,2,6],[4,6,9]]\n",
    "ghci> sumaFilaFila 2 3 p\n",
    "(  5  1  0 )\n",
    "(  7  8 15 )\n",
    "(  4  6  9 )\n",
    "~~~\n",
    "---"
   ]
  },
  {
   "cell_type": "code",
   "execution_count": 54,
   "metadata": {
    "collapsed": true,
    "jupyter": {
     "outputs_hidden": true
    }
   },
   "outputs": [],
   "source": [
    "sumaFilaFila :: Num a => Int -> Int -> Matrix a -> Matrix a\n",
    "sumaFilaFila k l p = undefined"
   ]
  },
  {
   "cell_type": "code",
   "execution_count": 55,
   "metadata": {
    "collapsed": true,
    "jupyter": {
     "outputs_hidden": true
    }
   },
   "outputs": [
    {
     "ename": "",
     "evalue": "",
     "header": "MessageHeader {mhIdentifiers = [\"6ed6f3d1-63da-49e1-adcf-d5b55d9114ae\"], mhParentHeader = Just (MessageHeader {mhIdentifiers = [\"6ed6f3d1-63da-49e1-adcf-d5b55d9114ae\"], mhParentHeader = Nothing, mhMetadata = Metadata (fromList [(\"deletedCells\",Array [String \"55f75c61-e59d-4ced-86c9-1bdc1060149d\"]),(\"cellId\",String \"d66b8453-2cb3-4ae3-9294-7132c478b1eb\")]), mhMessageId = UUID {uuidToString = \"dc30667c-cf78-4ad5-a850-da570bf6dccb\"}, mhSessionId = UUID {uuidToString = \"6ed6f3d1-63da-49e1-adcf-d5b55d9114ae\"}, mhUsername = \"\", mhMsgType = ExecuteRequestMessage}), mhMetadata = Metadata (fromList []), mhMessageId = UUID {uuidToString = \"c5ecc185-bc81-4e71-84eb-b373b91ef6d9\"}, mhSessionId = UUID {uuidToString = \"6ed6f3d1-63da-49e1-adcf-d5b55d9114ae\"}, mhUsername = \"\", mhMsgType = ExecuteErrorMessage}",
     "output_type": "error",
     "traceback": [
      "Prelude.undefined\nCallStack (from HasCallStack):\n  error, called at libraries/base/GHC/Err.hs:78:14 in base:GHC.Err\n  undefined, called at <interactive>:2:22 in interactive:Ghci915"
     ]
    }
   ],
   "source": [
    "p = listaMatriz [[5,1,0],[3,2,6],[4,6,9]]\n",
    "sumaFilaFila 2 3 p"
   ]
  },
  {
   "cell_type": "markdown",
   "metadata": {},
   "source": [
    "---\n",
    "**Ejercicio 24.** Definir la función\n",
    "~~~\n",
    "sumaFilaPor :: Num a => Int -> Int -> a -> Matrix a -> Matrix a\n",
    "~~~\n",
    "tal que (sumaFilaPor k l x p) es la matriz obtenida sumando a la fila\n",
    "k de la matriz p la fila l multiplicada por x. Por ejemplo,\n",
    "~~~\n",
    "ghci> p = listaMatriz [[5,1,0],[3,2,6],[4,6,9]]\n",
    "ghci> sumaFilaPor 2 3 10 p\n",
    "(  5  1  0 )\n",
    "( 43 62 96 )\n",
    "(  4  6  9 )\n",
    "~~~\n",
    "---"
   ]
  },
  {
   "cell_type": "code",
   "execution_count": 56,
   "metadata": {
    "collapsed": true,
    "jupyter": {
     "outputs_hidden": true
    }
   },
   "outputs": [],
   "source": [
    "sumaFilaPor :: Num a => Int -> Int -> a -> Matrix a -> Matrix a\n",
    "sumaFilaPor k l x p = undefined"
   ]
  },
  {
   "cell_type": "code",
   "execution_count": 57,
   "metadata": {
    "collapsed": true,
    "jupyter": {
     "outputs_hidden": true
    }
   },
   "outputs": [
    {
     "ename": "",
     "evalue": "",
     "header": "MessageHeader {mhIdentifiers = [\"6ed6f3d1-63da-49e1-adcf-d5b55d9114ae\"], mhParentHeader = Just (MessageHeader {mhIdentifiers = [\"6ed6f3d1-63da-49e1-adcf-d5b55d9114ae\"], mhParentHeader = Nothing, mhMetadata = Metadata (fromList [(\"deletedCells\",Array [String \"55f75c61-e59d-4ced-86c9-1bdc1060149d\"]),(\"cellId\",String \"f01ff02d-121c-491e-90e4-833d2160f13c\")]), mhMessageId = UUID {uuidToString = \"e7757020-4a45-4c78-bcb3-738025400ceb\"}, mhSessionId = UUID {uuidToString = \"6ed6f3d1-63da-49e1-adcf-d5b55d9114ae\"}, mhUsername = \"\", mhMsgType = ExecuteRequestMessage}), mhMetadata = Metadata (fromList []), mhMessageId = UUID {uuidToString = \"6464beaa-7da0-487f-995c-dab16615e90b\"}, mhSessionId = UUID {uuidToString = \"6ed6f3d1-63da-49e1-adcf-d5b55d9114ae\"}, mhUsername = \"\", mhMsgType = ExecuteErrorMessage}",
     "output_type": "error",
     "traceback": [
      "Prelude.undefined\nCallStack (from HasCallStack):\n  error, called at libraries/base/GHC/Err.hs:78:14 in base:GHC.Err\n  undefined, called at <interactive>:2:23 in interactive:Ghci950"
     ]
    }
   ],
   "source": [
    "p = listaMatriz [[5,1,0],[3,2,6],[4,6,9]]\n",
    "sumaFilaPor 2 3 10 p"
   ]
  },
  {
   "cell_type": "markdown",
   "metadata": {},
   "source": [
    "## Triangularización de matrices                           \n",
    "\n",
    "---\n",
    "**Ejercicio 25.** Definir la función\n",
    "~~~\n",
    "buscaIndiceDesde :: (Num a, Eq a) => \n",
    "                    Matrix a -> Int -> Int -> Maybe Int\n",
    "~~~\n",
    "tal que (buscaIndiceDesde p j i) es el menor índice k, mayor o igual\n",
    "que i, tal que el elemento de la matriz p en la posición (k,j) es no\n",
    "nulo. Por ejemplo,\n",
    "~~~\n",
    "ghci> p = listaMatriz [[5,1,0],[3,2,6],[4,6,9]]\n",
    "ghci> buscaIndiceDesde p 3 2\n",
    "Just 2\n",
    "ghci> q = listaMatriz [[5,1,1],[3,2,0],[4,6,0]]\n",
    "ghci> buscaIndiceDesde q 3 2\n",
    "Nothing\n",
    "~~~\n",
    "---"
   ]
  },
  {
   "cell_type": "code",
   "execution_count": 58,
   "metadata": {
    "collapsed": true,
    "jupyter": {
     "outputs_hidden": true
    }
   },
   "outputs": [],
   "source": [
    "buscaIndiceDesde :: (Num a, Eq a) => Matrix a -> Int -> Int -> Maybe Int\n",
    "buscaIndiceDesde p j i = undefined"
   ]
  },
  {
   "cell_type": "code",
   "execution_count": 59,
   "metadata": {
    "collapsed": true,
    "jupyter": {
     "outputs_hidden": true
    }
   },
   "outputs": [
    {
     "ename": "",
     "evalue": "",
     "header": "MessageHeader {mhIdentifiers = [\"6ed6f3d1-63da-49e1-adcf-d5b55d9114ae\"], mhParentHeader = Just (MessageHeader {mhIdentifiers = [\"6ed6f3d1-63da-49e1-adcf-d5b55d9114ae\"], mhParentHeader = Nothing, mhMetadata = Metadata (fromList [(\"deletedCells\",Array [String \"55f75c61-e59d-4ced-86c9-1bdc1060149d\"]),(\"cellId\",String \"b913d8e9-edd7-42aa-9614-16a89a0066be\")]), mhMessageId = UUID {uuidToString = \"4420f551-3788-4621-bbff-2d7ad6f7e3d6\"}, mhSessionId = UUID {uuidToString = \"6ed6f3d1-63da-49e1-adcf-d5b55d9114ae\"}, mhUsername = \"\", mhMsgType = ExecuteRequestMessage}), mhMetadata = Metadata (fromList []), mhMessageId = UUID {uuidToString = \"c18ea0a0-9a11-4a24-bdc3-edc0fe6befa4\"}, mhSessionId = UUID {uuidToString = \"6ed6f3d1-63da-49e1-adcf-d5b55d9114ae\"}, mhUsername = \"\", mhMsgType = ExecuteErrorMessage}",
     "output_type": "error",
     "traceback": [
      "Prelude.undefined\nCallStack (from HasCallStack):\n  error, called at libraries/base/GHC/Err.hs:78:14 in base:GHC.Err\n  undefined, called at <interactive>:2:26 in interactive:Ghci985"
     ]
    }
   ],
   "source": [
    "p = listaMatriz [[5,1,0],[3,2,6],[4,6,9]]\n",
    "buscaIndiceDesde p 3 2"
   ]
  },
  {
   "cell_type": "code",
   "execution_count": 60,
   "metadata": {
    "collapsed": true,
    "jupyter": {
     "outputs_hidden": true
    }
   },
   "outputs": [
    {
     "ename": "",
     "evalue": "",
     "header": "MessageHeader {mhIdentifiers = [\"6ed6f3d1-63da-49e1-adcf-d5b55d9114ae\"], mhParentHeader = Just (MessageHeader {mhIdentifiers = [\"6ed6f3d1-63da-49e1-adcf-d5b55d9114ae\"], mhParentHeader = Nothing, mhMetadata = Metadata (fromList [(\"deletedCells\",Array [String \"55f75c61-e59d-4ced-86c9-1bdc1060149d\"]),(\"cellId\",String \"e13942b2-3f11-4113-bebc-e136dd6548ec\")]), mhMessageId = UUID {uuidToString = \"6c211252-8e58-4e61-baff-7328ff7c79af\"}, mhSessionId = UUID {uuidToString = \"6ed6f3d1-63da-49e1-adcf-d5b55d9114ae\"}, mhUsername = \"\", mhMsgType = ExecuteRequestMessage}), mhMetadata = Metadata (fromList []), mhMessageId = UUID {uuidToString = \"75a51d83-9f86-4c64-95f7-4cd0e6f9fe47\"}, mhSessionId = UUID {uuidToString = \"6ed6f3d1-63da-49e1-adcf-d5b55d9114ae\"}, mhUsername = \"\", mhMsgType = ExecuteErrorMessage}",
     "output_type": "error",
     "traceback": [
      "Prelude.undefined\nCallStack (from HasCallStack):\n  error, called at libraries/base/GHC/Err.hs:78:14 in base:GHC.Err\n  undefined, called at <interactive>:2:26 in interactive:Ghci985"
     ]
    }
   ],
   "source": [
    "q = listaMatriz [[5,1,1],[3,2,0],[4,6,0]]\n",
    "buscaIndiceDesde q 3 2"
   ]
  },
  {
   "cell_type": "markdown",
   "metadata": {},
   "source": [
    "---\n",
    "**Ejercicio 26.** Definir la función\n",
    "~~~\n",
    "buscaPivoteDesde :: (Num a, Eq a) => \n",
    "                    Matrix a -> Int -> Int -> Maybe a\n",
    "~~~\n",
    "tal que (buscaPivoteDesde p j i) es el elemento de la matriz p en la\n",
    "posición (k,j) donde k es (buscaIndiceDesde p j i). Por ejemplo,\n",
    "~~~\n",
    "ghci> p = listaMatriz [[5,1,0],[3,2,6],[4,6,9]]\n",
    "ghci> buscaPivoteDesde p 3 2\n",
    "Just 6\n",
    "ghci> q = listaMatriz [[5,1,1],[3,2,0],[4,6,0]]\n",
    "ghci> buscaPivoteDesde q 3 2\n",
    "Nothing\n",
    "~~~\n",
    "---"
   ]
  },
  {
   "cell_type": "code",
   "execution_count": 61,
   "metadata": {
    "collapsed": true,
    "jupyter": {
     "outputs_hidden": true
    }
   },
   "outputs": [],
   "source": [
    "buscaPivoteDesde :: (Num a, Eq a) => Matrix a -> Int -> Int -> Maybe a\n",
    "buscaPivoteDesde p j i = undefined"
   ]
  },
  {
   "cell_type": "code",
   "execution_count": 62,
   "metadata": {
    "collapsed": true,
    "jupyter": {
     "outputs_hidden": true
    }
   },
   "outputs": [
    {
     "ename": "",
     "evalue": "",
     "header": "MessageHeader {mhIdentifiers = [\"6ed6f3d1-63da-49e1-adcf-d5b55d9114ae\"], mhParentHeader = Just (MessageHeader {mhIdentifiers = [\"6ed6f3d1-63da-49e1-adcf-d5b55d9114ae\"], mhParentHeader = Nothing, mhMetadata = Metadata (fromList [(\"deletedCells\",Array [String \"55f75c61-e59d-4ced-86c9-1bdc1060149d\"]),(\"cellId\",String \"e54d8a0b-fccd-4e4e-ba04-dcaa42c6944c\")]), mhMessageId = UUID {uuidToString = \"893fd06a-0ec9-432c-964c-313d27e9b848\"}, mhSessionId = UUID {uuidToString = \"6ed6f3d1-63da-49e1-adcf-d5b55d9114ae\"}, mhUsername = \"\", mhMsgType = ExecuteRequestMessage}), mhMetadata = Metadata (fromList []), mhMessageId = UUID {uuidToString = \"0b3eb481-7953-4aac-a9c3-53579d1038e5\"}, mhSessionId = UUID {uuidToString = \"6ed6f3d1-63da-49e1-adcf-d5b55d9114ae\"}, mhUsername = \"\", mhMsgType = ExecuteErrorMessage}",
     "output_type": "error",
     "traceback": [
      "Prelude.undefined\nCallStack (from HasCallStack):\n  error, called at libraries/base/GHC/Err.hs:78:14 in base:GHC.Err\n  undefined, called at <interactive>:2:26 in interactive:Ghci1037"
     ]
    }
   ],
   "source": [
    "p = listaMatriz [[5,1,0],[3,2,6],[4,6,9]]\n",
    "buscaPivoteDesde p 3 2"
   ]
  },
  {
   "cell_type": "code",
   "execution_count": 63,
   "metadata": {
    "collapsed": true,
    "jupyter": {
     "outputs_hidden": true
    }
   },
   "outputs": [
    {
     "ename": "",
     "evalue": "",
     "header": "MessageHeader {mhIdentifiers = [\"6ed6f3d1-63da-49e1-adcf-d5b55d9114ae\"], mhParentHeader = Just (MessageHeader {mhIdentifiers = [\"6ed6f3d1-63da-49e1-adcf-d5b55d9114ae\"], mhParentHeader = Nothing, mhMetadata = Metadata (fromList [(\"deletedCells\",Array [String \"55f75c61-e59d-4ced-86c9-1bdc1060149d\"]),(\"cellId\",String \"3d05e530-308f-47a6-8b75-374e1f33812e\")]), mhMessageId = UUID {uuidToString = \"32f6a7f8-2460-4556-a824-42d447813343\"}, mhSessionId = UUID {uuidToString = \"6ed6f3d1-63da-49e1-adcf-d5b55d9114ae\"}, mhUsername = \"\", mhMsgType = ExecuteRequestMessage}), mhMetadata = Metadata (fromList []), mhMessageId = UUID {uuidToString = \"59a95623-58bc-489e-a058-5024f4e678d0\"}, mhSessionId = UUID {uuidToString = \"6ed6f3d1-63da-49e1-adcf-d5b55d9114ae\"}, mhUsername = \"\", mhMsgType = ExecuteErrorMessage}",
     "output_type": "error",
     "traceback": [
      "Prelude.undefined\nCallStack (from HasCallStack):\n  error, called at libraries/base/GHC/Err.hs:78:14 in base:GHC.Err\n  undefined, called at <interactive>:2:26 in interactive:Ghci1037"
     ]
    }
   ],
   "source": [
    "q = listaMatriz [[5,1,1],[3,2,0],[4,6,0]]\n",
    "buscaPivoteDesde q 3 2"
   ]
  },
  {
   "cell_type": "markdown",
   "metadata": {},
   "source": [
    "---\n",
    "**Ejercicio 27.** Definir la función\n",
    "~~~\n",
    "anuladaColumnaDesde :: (Num a, Eq a) => \n",
    "                       Int -> Int -> Matrix a -> Bool\n",
    "~~~\n",
    "tal que (anuladaColumnaDesde j i p) se verifica si todos los\n",
    "elementos de la columna j de la matriz p desde i+1 en adelante son\n",
    "nulos. Por ejemplo,\n",
    "~~~\n",
    "ghci> q = listaMatriz [[5,1,1],[3,2,0],[4,6,0]]\n",
    "ghci> anuladaColumnaDesde q 3 2\n",
    "True\n",
    "ghci> p = listaMatriz [[5,1,0],[3,2,6],[4,6,9]]\n",
    "ghci> anuladaColumnaDesde p 3 2\n",
    "False\n",
    "~~~\n",
    "---"
   ]
  },
  {
   "cell_type": "code",
   "execution_count": 64,
   "metadata": {
    "collapsed": true,
    "jupyter": {
     "outputs_hidden": true
    }
   },
   "outputs": [],
   "source": [
    "anuladaColumnaDesde :: (Num a, Eq a) => Matrix a -> Int -> Int -> Bool\n",
    "anuladaColumnaDesde p j i = undefined"
   ]
  },
  {
   "cell_type": "code",
   "execution_count": 65,
   "metadata": {
    "collapsed": true,
    "jupyter": {
     "outputs_hidden": true
    }
   },
   "outputs": [
    {
     "ename": "",
     "evalue": "",
     "header": "MessageHeader {mhIdentifiers = [\"6ed6f3d1-63da-49e1-adcf-d5b55d9114ae\"], mhParentHeader = Just (MessageHeader {mhIdentifiers = [\"6ed6f3d1-63da-49e1-adcf-d5b55d9114ae\"], mhParentHeader = Nothing, mhMetadata = Metadata (fromList [(\"deletedCells\",Array [String \"55f75c61-e59d-4ced-86c9-1bdc1060149d\"]),(\"cellId\",String \"72e56dc5-2d91-49ee-b287-ece98724291e\")]), mhMessageId = UUID {uuidToString = \"2a9a6549-5d0b-4414-91c3-e1aa2f953480\"}, mhSessionId = UUID {uuidToString = \"6ed6f3d1-63da-49e1-adcf-d5b55d9114ae\"}, mhUsername = \"\", mhMsgType = ExecuteRequestMessage}), mhMetadata = Metadata (fromList []), mhMessageId = UUID {uuidToString = \"e7141ab2-c53f-40fe-bc6a-c20f6e3fabd9\"}, mhSessionId = UUID {uuidToString = \"6ed6f3d1-63da-49e1-adcf-d5b55d9114ae\"}, mhUsername = \"\", mhMsgType = ExecuteErrorMessage}",
     "output_type": "error",
     "traceback": [
      "Prelude.undefined\nCallStack (from HasCallStack):\n  error, called at libraries/base/GHC/Err.hs:78:14 in base:GHC.Err\n  undefined, called at <interactive>:2:29 in interactive:Ghci1089"
     ]
    }
   ],
   "source": [
    "q = listaMatriz [[5,1,1],[3,2,0],[4,6,0]]\n",
    "anuladaColumnaDesde q 3 2"
   ]
  },
  {
   "cell_type": "code",
   "execution_count": 66,
   "metadata": {
    "collapsed": true,
    "jupyter": {
     "outputs_hidden": true
    }
   },
   "outputs": [
    {
     "ename": "",
     "evalue": "",
     "header": "MessageHeader {mhIdentifiers = [\"6ed6f3d1-63da-49e1-adcf-d5b55d9114ae\"], mhParentHeader = Just (MessageHeader {mhIdentifiers = [\"6ed6f3d1-63da-49e1-adcf-d5b55d9114ae\"], mhParentHeader = Nothing, mhMetadata = Metadata (fromList [(\"deletedCells\",Array [String \"55f75c61-e59d-4ced-86c9-1bdc1060149d\"]),(\"cellId\",String \"4e18b6d7-d483-4953-8474-520ea0356bf0\")]), mhMessageId = UUID {uuidToString = \"9fee1f3b-995e-4284-b1db-bae451600906\"}, mhSessionId = UUID {uuidToString = \"6ed6f3d1-63da-49e1-adcf-d5b55d9114ae\"}, mhUsername = \"\", mhMsgType = ExecuteRequestMessage}), mhMetadata = Metadata (fromList []), mhMessageId = UUID {uuidToString = \"cafdc225-110c-4ad6-8264-75056f3fa37d\"}, mhSessionId = UUID {uuidToString = \"6ed6f3d1-63da-49e1-adcf-d5b55d9114ae\"}, mhUsername = \"\", mhMsgType = ExecuteErrorMessage}",
     "output_type": "error",
     "traceback": [
      "Prelude.undefined\nCallStack (from HasCallStack):\n  error, called at libraries/base/GHC/Err.hs:78:14 in base:GHC.Err\n  undefined, called at <interactive>:2:29 in interactive:Ghci1089"
     ]
    }
   ],
   "source": [
    "p = listaMatriz [[5,1,0],[3,2,6],[4,6,9]]\n",
    "anuladaColumnaDesde p 3 2"
   ]
  },
  {
   "cell_type": "markdown",
   "metadata": {},
   "source": [
    "---\n",
    "**Ejercicio 28.** Definir la función\n",
    "~~~\n",
    "anulaEltoColumnaDesde :: (Fractional a, Eq a) => \n",
    "                         Matrix a -> Int -> Int -> Matrix a\n",
    "~~~\n",
    "tal que (anulaEltoColumnaDesde p j i) es la matriz obtenida a partir\n",
    "de p anulando el primer elemento de la columna j por debajo de la\n",
    "fila i usando el elemento de la posición (i,j). Por ejemplo,\n",
    "~~~\n",
    "ghci> p = listaMatriz [[2,3,1],[5,0,5],[8,6,9]] :: Matrix Double\n",
    "ghci> matrizLista (anulaEltoColumnaDesde p 2 1)\n",
    "[[2.0,3.0,1.0],[5.0,0.0,5.0],[4.0,0.0,7.0]]\n",
    "~~~\n",
    "---"
   ]
  },
  {
   "cell_type": "code",
   "execution_count": 67,
   "metadata": {
    "collapsed": true,
    "jupyter": {
     "outputs_hidden": true
    }
   },
   "outputs": [],
   "source": [
    "anulaEltoColumnaDesde :: (Fractional a, Eq a) => \n",
    "                         Matrix a -> Int -> Int -> Matrix a\n",
    "anulaEltoColumnaDesde p j i = undefined"
   ]
  },
  {
   "cell_type": "code",
   "execution_count": 68,
   "metadata": {
    "collapsed": true,
    "jupyter": {
     "outputs_hidden": true
    }
   },
   "outputs": [
    {
     "ename": "",
     "evalue": "",
     "header": "MessageHeader {mhIdentifiers = [\"6ed6f3d1-63da-49e1-adcf-d5b55d9114ae\"], mhParentHeader = Just (MessageHeader {mhIdentifiers = [\"6ed6f3d1-63da-49e1-adcf-d5b55d9114ae\"], mhParentHeader = Nothing, mhMetadata = Metadata (fromList [(\"deletedCells\",Array [String \"55f75c61-e59d-4ced-86c9-1bdc1060149d\"]),(\"cellId\",String \"322a401a-f386-4b88-8a50-f261199a42c5\")]), mhMessageId = UUID {uuidToString = \"955c7a69-11ee-48dd-92ea-16b720723bf7\"}, mhSessionId = UUID {uuidToString = \"6ed6f3d1-63da-49e1-adcf-d5b55d9114ae\"}, mhUsername = \"\", mhMsgType = ExecuteRequestMessage}), mhMetadata = Metadata (fromList []), mhMessageId = UUID {uuidToString = \"92831327-65fd-41fb-afe2-4ab263f3b862\"}, mhSessionId = UUID {uuidToString = \"6ed6f3d1-63da-49e1-adcf-d5b55d9114ae\"}, mhUsername = \"\", mhMsgType = ExecuteErrorMessage}",
     "output_type": "error",
     "traceback": [
      "Prelude.undefined\nCallStack (from HasCallStack):\n  error, called at libraries/base/GHC/Err.hs:78:14 in base:GHC.Err\n  undefined, called at <interactive>:2:15 in interactive:Ghci207"
     ]
    }
   ],
   "source": [
    "p = listaMatriz [[2,3,1],[5,0,5],[8,6,9]] :: Matrix Double\n",
    "matrizLista (anulaEltoColumnaDesde p 2 1)"
   ]
  },
  {
   "cell_type": "markdown",
   "metadata": {},
   "source": [
    "---\n",
    "**Ejercicio 29.** Definir la función\n",
    "~~~\n",
    "anulaColumnaDesde :: (Fractional a, Eq a) => \n",
    "                     Matrix a -> Int -> Int -> Matrix a\n",
    "~~~\n",
    "tal que (anulaColumnaDesde p j i) es la matriz obtenida anulando\n",
    "todos los elementos de la columna j de la matriz p por debajo del la\n",
    "posición (i,j) (se supone que el elemnto p_(i,j) es no nulo). Por\n",
    "ejemplo,\n",
    "~~~\n",
    "ghci> p = listaMatriz [[2,2,1],[5,4,5],[10,8,9]] :: Matrix Double\n",
    "ghci> matrizLista (anulaColumnaDesde p 2 1)\n",
    "[[2.0,2.0,1.0],[1.0,0.0,3.0],[2.0,0.0,5.0]]\n",
    "ghci> p = listaMatriz [[4,5],[2,7%2],[6,10]] \n",
    "ghci> matrizLista (anulaColumnaDesde p 1 1)\n",
    "[[4 % 1,5 % 1],[0 % 1,1 % 1],[0 % 1,5 % 2]]\n",
    "~~~\n",
    "---"
   ]
  },
  {
   "cell_type": "code",
   "execution_count": 69,
   "metadata": {
    "collapsed": true,
    "jupyter": {
     "outputs_hidden": true
    }
   },
   "outputs": [],
   "source": [
    "anulaColumnaDesde :: (Fractional a, Eq a) => \n",
    "                     Matrix a -> Int -> Int -> Matrix a\n",
    "anulaColumnaDesde p j i = undefined"
   ]
  },
  {
   "cell_type": "code",
   "execution_count": 70,
   "metadata": {
    "collapsed": true,
    "jupyter": {
     "outputs_hidden": true
    }
   },
   "outputs": [
    {
     "ename": "",
     "evalue": "",
     "header": "MessageHeader {mhIdentifiers = [\"6ed6f3d1-63da-49e1-adcf-d5b55d9114ae\"], mhParentHeader = Just (MessageHeader {mhIdentifiers = [\"6ed6f3d1-63da-49e1-adcf-d5b55d9114ae\"], mhParentHeader = Nothing, mhMetadata = Metadata (fromList [(\"deletedCells\",Array [String \"55f75c61-e59d-4ced-86c9-1bdc1060149d\"]),(\"cellId\",String \"f860e6ba-c7d5-4132-bbd3-820bf33d12b0\")]), mhMessageId = UUID {uuidToString = \"bd8a13eb-2355-4d42-9e7c-725667f4095f\"}, mhSessionId = UUID {uuidToString = \"6ed6f3d1-63da-49e1-adcf-d5b55d9114ae\"}, mhUsername = \"\", mhMsgType = ExecuteRequestMessage}), mhMetadata = Metadata (fromList []), mhMessageId = UUID {uuidToString = \"b0099050-3795-41b8-afa5-d0d3ce9d8e9e\"}, mhSessionId = UUID {uuidToString = \"6ed6f3d1-63da-49e1-adcf-d5b55d9114ae\"}, mhUsername = \"\", mhMsgType = ExecuteErrorMessage}",
     "output_type": "error",
     "traceback": [
      "Prelude.undefined\nCallStack (from HasCallStack):\n  error, called at libraries/base/GHC/Err.hs:78:14 in base:GHC.Err\n  undefined, called at <interactive>:2:15 in interactive:Ghci207"
     ]
    }
   ],
   "source": [
    "p = listaMatriz [[2,2,1],[5,4,5],[10,8,9]] :: Matrix Double\n",
    "matrizLista (anulaColumnaDesde p 2 1)"
   ]
  },
  {
   "cell_type": "code",
   "execution_count": 71,
   "metadata": {
    "collapsed": true,
    "jupyter": {
     "outputs_hidden": true
    }
   },
   "outputs": [
    {
     "ename": "",
     "evalue": "",
     "header": "MessageHeader {mhIdentifiers = [\"6ed6f3d1-63da-49e1-adcf-d5b55d9114ae\"], mhParentHeader = Just (MessageHeader {mhIdentifiers = [\"6ed6f3d1-63da-49e1-adcf-d5b55d9114ae\"], mhParentHeader = Nothing, mhMetadata = Metadata (fromList [(\"deletedCells\",Array [String \"55f75c61-e59d-4ced-86c9-1bdc1060149d\"]),(\"cellId\",String \"0292aefb-f24e-4c8f-acba-a15a3deaf296\")]), mhMessageId = UUID {uuidToString = \"54b923b3-5028-4772-82a3-6c23bb41ca4a\"}, mhSessionId = UUID {uuidToString = \"6ed6f3d1-63da-49e1-adcf-d5b55d9114ae\"}, mhUsername = \"\", mhMsgType = ExecuteRequestMessage}), mhMetadata = Metadata (fromList []), mhMessageId = UUID {uuidToString = \"a6a2591a-2c88-4a82-a767-190513e3482c\"}, mhSessionId = UUID {uuidToString = \"6ed6f3d1-63da-49e1-adcf-d5b55d9114ae\"}, mhUsername = \"\", mhMsgType = ExecuteErrorMessage}",
     "output_type": "error",
     "traceback": [
      "Prelude.undefined\nCallStack (from HasCallStack):\n  error, called at libraries/base/GHC/Err.hs:78:14 in base:GHC.Err\n  undefined, called at <interactive>:2:15 in interactive:Ghci207"
     ]
    }
   ],
   "source": [
    "p = listaMatriz [[4,5],[2,7%2],[6,10]] \n",
    "matrizLista (anulaColumnaDesde p 1 1)"
   ]
  },
  {
   "cell_type": "markdown",
   "metadata": {},
   "source": [
    "## Algoritmo de Gauss para triangularizar matrices           \n",
    "\n",
    "---\n",
    "Ejercicio 30. Definir la función\n",
    "~~~\n",
    "elementosNoNulosColDesde :: (Num a, Eq a) => \n",
    "                            Matrix a -> Int -> Int -> [a]\n",
    "~~~\n",
    "tal que (elementosNoNulosColDesde p j i) es la lista de los elementos\n",
    "no nulos de la columna j a partir de la fila i. Por ejemplo,\n",
    "~~~\n",
    "ghci> p = listaMatriz [[3,2],[5,1],[0,4]]\n",
    "ghci> elementosNoNulosColDesde p 1 2\n",
    "[5]\n",
    "~~~\n",
    "---"
   ]
  },
  {
   "cell_type": "code",
   "execution_count": 72,
   "metadata": {
    "collapsed": true,
    "jupyter": {
     "outputs_hidden": true
    }
   },
   "outputs": [],
   "source": [
    "elementosNoNulosColDesde :: (Num a, Eq a) => Matrix a -> Int -> Int -> [a]\n",
    "elementosNoNulosColDesde p j i = undefined"
   ]
  },
  {
   "cell_type": "code",
   "execution_count": 73,
   "metadata": {
    "collapsed": true,
    "jupyter": {
     "outputs_hidden": true
    }
   },
   "outputs": [
    {
     "ename": "",
     "evalue": "",
     "header": "MessageHeader {mhIdentifiers = [\"6ed6f3d1-63da-49e1-adcf-d5b55d9114ae\"], mhParentHeader = Just (MessageHeader {mhIdentifiers = [\"6ed6f3d1-63da-49e1-adcf-d5b55d9114ae\"], mhParentHeader = Nothing, mhMetadata = Metadata (fromList [(\"deletedCells\",Array [String \"55f75c61-e59d-4ced-86c9-1bdc1060149d\"]),(\"cellId\",String \"201b282c-452a-4e89-8393-79552e91a811\")]), mhMessageId = UUID {uuidToString = \"848103af-1345-44b3-bc0b-13b7d4f6cb97\"}, mhSessionId = UUID {uuidToString = \"6ed6f3d1-63da-49e1-adcf-d5b55d9114ae\"}, mhUsername = \"\", mhMsgType = ExecuteRequestMessage}), mhMetadata = Metadata (fromList []), mhMessageId = UUID {uuidToString = \"0768d7c4-e87e-48ca-9678-bee0cfce40be\"}, mhSessionId = UUID {uuidToString = \"6ed6f3d1-63da-49e1-adcf-d5b55d9114ae\"}, mhUsername = \"\", mhMsgType = ExecuteErrorMessage}",
     "output_type": "error",
     "traceback": [
      "Prelude.undefined\nCallStack (from HasCallStack):\n  error, called at libraries/base/GHC/Err.hs:78:14 in base:GHC.Err\n  undefined, called at <interactive>:2:34 in interactive:Ghci1228"
     ]
    }
   ],
   "source": [
    "p = listaMatriz [[3,2],[5,1],[0,4]]\n",
    "elementosNoNulosColDesde p 1 2"
   ]
  },
  {
   "cell_type": "markdown",
   "metadata": {},
   "source": [
    "---\n",
    "**Ejercicio 31.** Definir la función\n",
    "~~~\n",
    "existeColNoNulaDesde :: (Num a, Eq a) => \n",
    "                        Matrix a -> Int -> Int -> Bool\n",
    "~~~\n",
    "tal que (existeColNoNulaDesde p j i) se verifica si la matriz p tiene\n",
    "una columna a partir de la j tal que tiene algún elemento no nulo por\n",
    "debajo de la j; es decir, si la submatriz de p obtenida eliminando\n",
    "las i-1 primeras filas y las j-1 primeras columnas es no nula. Por\n",
    "ejemplo,\n",
    "~~~\n",
    "ghci> p = listaMatriz [[3,2,5],[5,0,0],[6,0,0]]\n",
    "ghci> existeColNoNulaDesde p 2 2\n",
    "False\n",
    "ghci> q = listaMatriz [[3,2,5],[5,7,0],[6,0,0]]\n",
    "ghci> existeColNoNulaDesde q 2 2\n",
    "True\n",
    "~~~\n",
    "---"
   ]
  },
  {
   "cell_type": "code",
   "execution_count": 74,
   "metadata": {
    "collapsed": true,
    "jupyter": {
     "outputs_hidden": true
    }
   },
   "outputs": [],
   "source": [
    "existeColNoNulaDesde :: (Num a, Eq a) => Matrix a -> Int -> Int -> Bool\n",
    "existeColNoNulaDesde p j i = undefined"
   ]
  },
  {
   "cell_type": "code",
   "execution_count": 75,
   "metadata": {
    "collapsed": true,
    "jupyter": {
     "outputs_hidden": true
    }
   },
   "outputs": [
    {
     "ename": "",
     "evalue": "",
     "header": "MessageHeader {mhIdentifiers = [\"6ed6f3d1-63da-49e1-adcf-d5b55d9114ae\"], mhParentHeader = Just (MessageHeader {mhIdentifiers = [\"6ed6f3d1-63da-49e1-adcf-d5b55d9114ae\"], mhParentHeader = Nothing, mhMetadata = Metadata (fromList [(\"deletedCells\",Array [String \"55f75c61-e59d-4ced-86c9-1bdc1060149d\"]),(\"cellId\",String \"12e4b8d2-038b-43c8-9005-3853e6c019e5\")]), mhMessageId = UUID {uuidToString = \"efe7b88f-8f7d-4b3d-a9a0-44ad877d1aaa\"}, mhSessionId = UUID {uuidToString = \"6ed6f3d1-63da-49e1-adcf-d5b55d9114ae\"}, mhUsername = \"\", mhMsgType = ExecuteRequestMessage}), mhMetadata = Metadata (fromList []), mhMessageId = UUID {uuidToString = \"8714c74f-21a2-49bc-aa27-b45a40653244\"}, mhSessionId = UUID {uuidToString = \"6ed6f3d1-63da-49e1-adcf-d5b55d9114ae\"}, mhUsername = \"\", mhMsgType = ExecuteErrorMessage}",
     "output_type": "error",
     "traceback": [
      "Prelude.undefined\nCallStack (from HasCallStack):\n  error, called at libraries/base/GHC/Err.hs:78:14 in base:GHC.Err\n  undefined, called at <interactive>:2:30 in interactive:Ghci1263"
     ]
    }
   ],
   "source": [
    "p = listaMatriz [[3,2,5],[5,0,0],[6,0,0]]\n",
    "existeColNoNulaDesde p 2 2"
   ]
  },
  {
   "cell_type": "code",
   "execution_count": 76,
   "metadata": {
    "collapsed": true,
    "jupyter": {
     "outputs_hidden": true
    }
   },
   "outputs": [
    {
     "ename": "",
     "evalue": "",
     "header": "MessageHeader {mhIdentifiers = [\"6ed6f3d1-63da-49e1-adcf-d5b55d9114ae\"], mhParentHeader = Just (MessageHeader {mhIdentifiers = [\"6ed6f3d1-63da-49e1-adcf-d5b55d9114ae\"], mhParentHeader = Nothing, mhMetadata = Metadata (fromList [(\"deletedCells\",Array [String \"55f75c61-e59d-4ced-86c9-1bdc1060149d\"]),(\"cellId\",String \"0f5f25f5-49ca-44c2-967f-953de615edca\")]), mhMessageId = UUID {uuidToString = \"f0bcacb2-d85e-4d96-8520-782065a84873\"}, mhSessionId = UUID {uuidToString = \"6ed6f3d1-63da-49e1-adcf-d5b55d9114ae\"}, mhUsername = \"\", mhMsgType = ExecuteRequestMessage}), mhMetadata = Metadata (fromList []), mhMessageId = UUID {uuidToString = \"68470c56-3143-4d0b-8ce9-b38b72702eb8\"}, mhSessionId = UUID {uuidToString = \"6ed6f3d1-63da-49e1-adcf-d5b55d9114ae\"}, mhUsername = \"\", mhMsgType = ExecuteErrorMessage}",
     "output_type": "error",
     "traceback": [
      "Prelude.undefined\nCallStack (from HasCallStack):\n  error, called at libraries/base/GHC/Err.hs:78:14 in base:GHC.Err\n  undefined, called at <interactive>:2:30 in interactive:Ghci1263"
     ]
    }
   ],
   "source": [
    "q = listaMatriz [[3,2,5],[5,7,0],[6,0,0]]\n",
    "existeColNoNulaDesde q 2 2"
   ]
  },
  {
   "cell_type": "markdown",
   "metadata": {},
   "source": [
    "---\n",
    "**Ejercicio 32.** Definir la función\n",
    "~~~\n",
    "menorIndiceColNoNulaDesde :: (Num a, Eq a) => \n",
    "                             Matrix a -> Int -> Int -> Maybe Int\n",
    "~~~\n",
    "tal que (menorIndiceColNoNulaDesde p j i) es el índice de la primera\n",
    "columna, a partir de la j, en el que la matriz p tiene un elemento no\n",
    "nulo a partir de la fila i. Por ejemplo,\n",
    "~~~\n",
    "ghci> p = listaMatriz [[3,2,5],[5,7,0],[6,0,0]]\n",
    "ghci> menorIndiceColNoNulaDesde p 2 2\n",
    "Just 2\n",
    "ghci> q = listaMatriz [[3,2,5],[5,0,0],[6,0,2]]\n",
    "ghci> menorIndiceColNoNulaDesde q 2 2\n",
    "Just 3\n",
    "ghci> r = listaMatriz [[3,2,5],[5,0,0],[6,0,0]]\n",
    "ghci> menorIndiceColNoNulaDesde r 2 2\n",
    "Nothing\n",
    "~~~\n",
    "---"
   ]
  },
  {
   "cell_type": "code",
   "execution_count": 77,
   "metadata": {
    "collapsed": true,
    "jupyter": {
     "outputs_hidden": true
    }
   },
   "outputs": [],
   "source": [
    "menorIndiceColNoNulaDesde :: (Num a, Eq a) => \n",
    "                             Matrix a -> Int -> Int -> Maybe Int\n",
    "menorIndiceColNoNulaDesde p j i = undefined"
   ]
  },
  {
   "cell_type": "code",
   "execution_count": 78,
   "metadata": {
    "collapsed": true,
    "jupyter": {
     "outputs_hidden": true
    }
   },
   "outputs": [
    {
     "ename": "",
     "evalue": "",
     "header": "MessageHeader {mhIdentifiers = [\"6ed6f3d1-63da-49e1-adcf-d5b55d9114ae\"], mhParentHeader = Just (MessageHeader {mhIdentifiers = [\"6ed6f3d1-63da-49e1-adcf-d5b55d9114ae\"], mhParentHeader = Nothing, mhMetadata = Metadata (fromList [(\"deletedCells\",Array [String \"55f75c61-e59d-4ced-86c9-1bdc1060149d\"]),(\"cellId\",String \"28326aaf-a502-46b7-838b-79f6ca23100d\")]), mhMessageId = UUID {uuidToString = \"03c5bb87-7b8a-4fb4-8357-0e215e4a32bb\"}, mhSessionId = UUID {uuidToString = \"6ed6f3d1-63da-49e1-adcf-d5b55d9114ae\"}, mhUsername = \"\", mhMsgType = ExecuteRequestMessage}), mhMetadata = Metadata (fromList []), mhMessageId = UUID {uuidToString = \"bbaf9d2d-4ed2-4445-815b-3061f4daf9ba\"}, mhSessionId = UUID {uuidToString = \"6ed6f3d1-63da-49e1-adcf-d5b55d9114ae\"}, mhUsername = \"\", mhMsgType = ExecuteErrorMessage}",
     "output_type": "error",
     "traceback": [
      "Prelude.undefined\nCallStack (from HasCallStack):\n  error, called at libraries/base/GHC/Err.hs:78:14 in base:GHC.Err\n  undefined, called at <interactive>:3:35 in interactive:Ghci1315"
     ]
    }
   ],
   "source": [
    "p = listaMatriz [[3,2,5],[5,7,0],[6,0,0]]\n",
    "menorIndiceColNoNulaDesde p 2 2"
   ]
  },
  {
   "cell_type": "code",
   "execution_count": 79,
   "metadata": {
    "collapsed": true,
    "jupyter": {
     "outputs_hidden": true
    }
   },
   "outputs": [
    {
     "ename": "",
     "evalue": "",
     "header": "MessageHeader {mhIdentifiers = [\"6ed6f3d1-63da-49e1-adcf-d5b55d9114ae\"], mhParentHeader = Just (MessageHeader {mhIdentifiers = [\"6ed6f3d1-63da-49e1-adcf-d5b55d9114ae\"], mhParentHeader = Nothing, mhMetadata = Metadata (fromList [(\"deletedCells\",Array [String \"55f75c61-e59d-4ced-86c9-1bdc1060149d\"]),(\"cellId\",String \"ec1cc6c3-b927-420a-9b91-fe5a10c7eebc\")]), mhMessageId = UUID {uuidToString = \"9bed15f4-b4d6-4f7c-9ebb-08ad59d984e2\"}, mhSessionId = UUID {uuidToString = \"6ed6f3d1-63da-49e1-adcf-d5b55d9114ae\"}, mhUsername = \"\", mhMsgType = ExecuteRequestMessage}), mhMetadata = Metadata (fromList []), mhMessageId = UUID {uuidToString = \"ec640dff-0d61-4294-a483-fd0c8e694510\"}, mhSessionId = UUID {uuidToString = \"6ed6f3d1-63da-49e1-adcf-d5b55d9114ae\"}, mhUsername = \"\", mhMsgType = ExecuteErrorMessage}",
     "output_type": "error",
     "traceback": [
      "Prelude.undefined\nCallStack (from HasCallStack):\n  error, called at libraries/base/GHC/Err.hs:78:14 in base:GHC.Err\n  undefined, called at <interactive>:3:35 in interactive:Ghci1315"
     ]
    }
   ],
   "source": [
    "q = listaMatriz [[3,2,5],[5,0,0],[6,0,2]]\n",
    "menorIndiceColNoNulaDesde q 2 2"
   ]
  },
  {
   "cell_type": "code",
   "execution_count": 80,
   "metadata": {
    "collapsed": true,
    "jupyter": {
     "outputs_hidden": true
    }
   },
   "outputs": [
    {
     "ename": "",
     "evalue": "",
     "header": "MessageHeader {mhIdentifiers = [\"6ed6f3d1-63da-49e1-adcf-d5b55d9114ae\"], mhParentHeader = Just (MessageHeader {mhIdentifiers = [\"6ed6f3d1-63da-49e1-adcf-d5b55d9114ae\"], mhParentHeader = Nothing, mhMetadata = Metadata (fromList [(\"deletedCells\",Array [String \"55f75c61-e59d-4ced-86c9-1bdc1060149d\"]),(\"cellId\",String \"b38e2946-40db-441c-a186-363b9ef42a3a\")]), mhMessageId = UUID {uuidToString = \"94067ac3-650d-4989-bf9e-6b4bd86c0ca7\"}, mhSessionId = UUID {uuidToString = \"6ed6f3d1-63da-49e1-adcf-d5b55d9114ae\"}, mhUsername = \"\", mhMsgType = ExecuteRequestMessage}), mhMetadata = Metadata (fromList []), mhMessageId = UUID {uuidToString = \"5ab0dc80-c7fa-4184-9fd1-887da974189f\"}, mhSessionId = UUID {uuidToString = \"6ed6f3d1-63da-49e1-adcf-d5b55d9114ae\"}, mhUsername = \"\", mhMsgType = ExecuteErrorMessage}",
     "output_type": "error",
     "traceback": [
      "Prelude.undefined\nCallStack (from HasCallStack):\n  error, called at libraries/base/GHC/Err.hs:78:14 in base:GHC.Err\n  undefined, called at <interactive>:3:35 in interactive:Ghci1315"
     ]
    }
   ],
   "source": [
    "r = listaMatriz [[3,2,5],[5,0,0],[6,0,0]]\n",
    "menorIndiceColNoNulaDesde r 2 2"
   ]
  },
  {
   "cell_type": "markdown",
   "metadata": {},
   "source": [
    "---\n",
    "**Ejercicio 33.** Definir la función\n",
    "~~~\n",
    "gaussAux :: (Fractional a, Eq a) => \n",
    "            Matrix a -> Int -> Int -> Matrix a\n",
    "~~~\n",
    "tal que (gaussAux p i j) es la matriz que en el que las i-1 primeras\n",
    "filas y las j-1 primeras columnas son las de p y las restantes están\n",
    "triangularizadas por el método de Gauss; es decir,\n",
    "   1. Si la dimensión de p es (i,j), entonces p.\n",
    "   2. Si la submatriz de p sin las i-1 primeras filas y las j-1\n",
    "      primeras columnas es nulas, entonces p.\n",
    "   3. En caso contrario, (gaussAux p' (i+1) (j+1)) siendo\n",
    "      1. j' la primera columna a partir de la j donde p tiene\n",
    "         algún elemento no nulo a partir de la fila i,\n",
    "      2. p1 la matriz obtenida intercambiando las columnas j y j'\n",
    "         de p,\n",
    "      3. i' la primera fila a partir de la i donde la columna j de\n",
    "         p1 tiene un elemento no nulo,\n",
    "      4. p2 la matriz obtenida intercambiando las filas i e i' de\n",
    "         la matriz p1 y\n",
    "      5. p' la matriz obtenida anulando todos los elementos de la\n",
    "         columna j de p2 por debajo de la fila i.\n",
    "Por ejemplo,\n",
    "~~~\n",
    "ghci> p = listaMatriz [[1.0,2,3],[1,2,4],[3,2,5]]\n",
    "ghci> gaussAux p 2 2\n",
    "( 1.0 2.0 3.0 )\n",
    "( 1.0 2.0 4.0 )\n",
    "( 2.0 0.0 1.0 )\n",
    "~~~\n",
    "---"
   ]
  },
  {
   "cell_type": "code",
   "execution_count": 81,
   "metadata": {
    "collapsed": true,
    "jupyter": {
     "outputs_hidden": true
    }
   },
   "outputs": [],
   "source": [
    "gaussAux :: (Fractional a, Eq a) => Matrix a -> Int -> Int -> Matrix a\n",
    "gaussAux p i j = undefined"
   ]
  },
  {
   "cell_type": "code",
   "execution_count": 82,
   "metadata": {
    "collapsed": true,
    "jupyter": {
     "outputs_hidden": true
    }
   },
   "outputs": [
    {
     "ename": "",
     "evalue": "",
     "header": "MessageHeader {mhIdentifiers = [\"6ed6f3d1-63da-49e1-adcf-d5b55d9114ae\"], mhParentHeader = Just (MessageHeader {mhIdentifiers = [\"6ed6f3d1-63da-49e1-adcf-d5b55d9114ae\"], mhParentHeader = Nothing, mhMetadata = Metadata (fromList [(\"deletedCells\",Array [String \"55f75c61-e59d-4ced-86c9-1bdc1060149d\"]),(\"cellId\",String \"2058060e-4bc3-41d1-bfec-75f3afc524ef\")]), mhMessageId = UUID {uuidToString = \"02f32ae1-a1dc-4fb6-9b29-d434c793526a\"}, mhSessionId = UUID {uuidToString = \"6ed6f3d1-63da-49e1-adcf-d5b55d9114ae\"}, mhUsername = \"\", mhMsgType = ExecuteRequestMessage}), mhMetadata = Metadata (fromList []), mhMessageId = UUID {uuidToString = \"6a26c4da-7d95-4c36-b8d6-3f80df7315e6\"}, mhSessionId = UUID {uuidToString = \"6ed6f3d1-63da-49e1-adcf-d5b55d9114ae\"}, mhUsername = \"\", mhMsgType = ExecuteErrorMessage}",
     "output_type": "error",
     "traceback": [
      "Prelude.undefined\nCallStack (from HasCallStack):\n  error, called at libraries/base/GHC/Err.hs:78:14 in base:GHC.Err\n  undefined, called at <interactive>:2:18 in interactive:Ghci1384"
     ]
    }
   ],
   "source": [
    "p = listaMatriz [[1.0,2,3],[1,2,4],[3,2,5]]\n",
    "gaussAux p 2 2"
   ]
  },
  {
   "cell_type": "markdown",
   "metadata": {},
   "source": [
    "---\n",
    "**Ejercicio 34.** Definir la función\n",
    "~~~\n",
    "gauss :: (Fractional a, Eq a) => Matrix a -> Matrix a\n",
    "~~~\n",
    "tal que (gauss p) es la triangularización de la matriz p por el método\n",
    "de Gauss. Por ejemplo,\n",
    "~~~\n",
    "ghci> p = listaMatriz [[1.0,2,3],[1,2,4],[1,2,5]]\n",
    "ghci> gauss p\n",
    "( 1.0 3.0 2.0 )\n",
    "( 0.0 1.0 0.0 )\n",
    "( 0.0 0.0 0.0 )\n",
    "ghci> p = listaMatriz [[3%1,2,3],[1,2,4],[1,2,5]]\n",
    "ghci> gauss p\n",
    "( 3 % 1 2 % 1 3 % 1 )\n",
    "( 0 % 1 4 % 3 3 % 1 )\n",
    "( 0 % 1 0 % 1 1 % 1 )\n",
    "ghci> p = listaMatriz [[1.0,0,3],[1,0,4],[3,0,5]]\n",
    "ghci> gauss p\n",
    "( 1.0 3.0 0.0 )\n",
    "( 0.0 1.0 0.0 )\n",
    "( 0.0 0.0 0.0 )\n",
    "~~~\n",
    "---"
   ]
  },
  {
   "cell_type": "code",
   "execution_count": 83,
   "metadata": {
    "collapsed": true,
    "jupyter": {
     "outputs_hidden": true
    }
   },
   "outputs": [],
   "source": [
    "gauss :: (Fractional a, Eq a) => Matrix a -> Matrix a\n",
    "gauss p = undefined"
   ]
  },
  {
   "cell_type": "code",
   "execution_count": 84,
   "metadata": {
    "collapsed": true,
    "jupyter": {
     "outputs_hidden": true
    }
   },
   "outputs": [
    {
     "ename": "",
     "evalue": "",
     "header": "MessageHeader {mhIdentifiers = [\"6ed6f3d1-63da-49e1-adcf-d5b55d9114ae\"], mhParentHeader = Just (MessageHeader {mhIdentifiers = [\"6ed6f3d1-63da-49e1-adcf-d5b55d9114ae\"], mhParentHeader = Nothing, mhMetadata = Metadata (fromList [(\"deletedCells\",Array [String \"55f75c61-e59d-4ced-86c9-1bdc1060149d\"]),(\"cellId\",String \"07c53556-4e74-4907-83dd-d1e280e468a3\")]), mhMessageId = UUID {uuidToString = \"47417182-8c2a-4297-a417-4783c2f8feda\"}, mhSessionId = UUID {uuidToString = \"6ed6f3d1-63da-49e1-adcf-d5b55d9114ae\"}, mhUsername = \"\", mhMsgType = ExecuteRequestMessage}), mhMetadata = Metadata (fromList []), mhMessageId = UUID {uuidToString = \"7c633f76-8754-4ab6-915a-5ef5bc65aa9a\"}, mhSessionId = UUID {uuidToString = \"6ed6f3d1-63da-49e1-adcf-d5b55d9114ae\"}, mhUsername = \"\", mhMsgType = ExecuteErrorMessage}",
     "output_type": "error",
     "traceback": [
      "Prelude.undefined\nCallStack (from HasCallStack):\n  error, called at libraries/base/GHC/Err.hs:78:14 in base:GHC.Err\n  undefined, called at <interactive>:2:11 in interactive:Ghci1419"
     ]
    }
   ],
   "source": [
    "p = listaMatriz [[1.0,2,3],[1,2,4],[1,2,5]]\n",
    "gauss p"
   ]
  },
  {
   "cell_type": "code",
   "execution_count": 85,
   "metadata": {
    "collapsed": true,
    "jupyter": {
     "outputs_hidden": true
    }
   },
   "outputs": [
    {
     "ename": "",
     "evalue": "",
     "header": "MessageHeader {mhIdentifiers = [\"6ed6f3d1-63da-49e1-adcf-d5b55d9114ae\"], mhParentHeader = Just (MessageHeader {mhIdentifiers = [\"6ed6f3d1-63da-49e1-adcf-d5b55d9114ae\"], mhParentHeader = Nothing, mhMetadata = Metadata (fromList [(\"deletedCells\",Array [String \"55f75c61-e59d-4ced-86c9-1bdc1060149d\"]),(\"cellId\",String \"0c49ca01-1ba7-4b47-bc2a-cdac57280ae4\")]), mhMessageId = UUID {uuidToString = \"04e64ce6-ca05-4608-b373-cf8a29e05047\"}, mhSessionId = UUID {uuidToString = \"6ed6f3d1-63da-49e1-adcf-d5b55d9114ae\"}, mhUsername = \"\", mhMsgType = ExecuteRequestMessage}), mhMetadata = Metadata (fromList []), mhMessageId = UUID {uuidToString = \"47d26fbb-6f3c-4571-b1f7-7631a76ad879\"}, mhSessionId = UUID {uuidToString = \"6ed6f3d1-63da-49e1-adcf-d5b55d9114ae\"}, mhUsername = \"\", mhMsgType = ExecuteErrorMessage}",
     "output_type": "error",
     "traceback": [
      "Prelude.undefined\nCallStack (from HasCallStack):\n  error, called at libraries/base/GHC/Err.hs:78:14 in base:GHC.Err\n  undefined, called at <interactive>:2:11 in interactive:Ghci1419"
     ]
    }
   ],
   "source": [
    "p = listaMatriz [[3%1,2,3],[1,2,4],[1,2,5]]\n",
    "gauss p"
   ]
  },
  {
   "cell_type": "code",
   "execution_count": 86,
   "metadata": {
    "collapsed": true,
    "jupyter": {
     "outputs_hidden": true
    }
   },
   "outputs": [
    {
     "ename": "",
     "evalue": "",
     "header": "MessageHeader {mhIdentifiers = [\"6ed6f3d1-63da-49e1-adcf-d5b55d9114ae\"], mhParentHeader = Just (MessageHeader {mhIdentifiers = [\"6ed6f3d1-63da-49e1-adcf-d5b55d9114ae\"], mhParentHeader = Nothing, mhMetadata = Metadata (fromList [(\"deletedCells\",Array [String \"55f75c61-e59d-4ced-86c9-1bdc1060149d\"]),(\"cellId\",String \"5829592c-0f0c-4b90-ac0a-1e04f4fec150\")]), mhMessageId = UUID {uuidToString = \"9495acf3-7789-4a44-bb2a-fc185be8f7df\"}, mhSessionId = UUID {uuidToString = \"6ed6f3d1-63da-49e1-adcf-d5b55d9114ae\"}, mhUsername = \"\", mhMsgType = ExecuteRequestMessage}), mhMetadata = Metadata (fromList []), mhMessageId = UUID {uuidToString = \"e3318dd7-7c8e-4c29-9ed3-9c098417b4bf\"}, mhSessionId = UUID {uuidToString = \"6ed6f3d1-63da-49e1-adcf-d5b55d9114ae\"}, mhUsername = \"\", mhMsgType = ExecuteErrorMessage}",
     "output_type": "error",
     "traceback": [
      "Prelude.undefined\nCallStack (from HasCallStack):\n  error, called at libraries/base/GHC/Err.hs:78:14 in base:GHC.Err\n  undefined, called at <interactive>:2:11 in interactive:Ghci1419"
     ]
    }
   ],
   "source": [
    "p = listaMatriz [[1.0,0,3],[1,0,4],[3,0,5]]\n",
    "gauss p"
   ]
  },
  {
   "cell_type": "markdown",
   "metadata": {},
   "source": [
    "## Determinante                                                   \n",
    "\n",
    "---\n",
    "**Ejercicio 35.** Definir la función\n",
    "~~~\n",
    "gaussCAux :: (Fractional a, Eq a) => \n",
    "             Matriz a -> Int -> Int -> Int -> Matriz a\n",
    "~~~\n",
    "tal que (gaussCAux p i j c) es el par (n,q) donde q es la matriz que\n",
    "en el que las i-1 primeras filas y las j-1 primeras columnas son las\n",
    "de p y las restantes están triangularizadas por el método de Gauss;\n",
    "es decir, \n",
    "   1. Si la dimensión de p es (i,j), entonces p.\n",
    "   2. Si la submatriz de p sin las i-1 primeras filas y las j-1\n",
    "      primeras columnas es nulas, entonces p.\n",
    "   3. En caso contrario, (gaussAux p' (i+1) (j+1)) siendo\n",
    "      1. j' la primera columna a partir de la j donde p tiene\n",
    "         algún elemento no nulo a partir de la fila i,\n",
    "      2. p1 la matriz obtenida intercambiando las columnas j y j'\n",
    "         de p,\n",
    "      3. i' la primera fila a partir de la i donde la columna j de\n",
    "         p1 tiene un elemento no nulo,\n",
    "      4. p2 la matriz obtenida intercambiando las filas i e i' de\n",
    "         la matriz p1 y\n",
    "      5. p' la matriz obtenida anulando todos los elementos de la\n",
    "         columna j de p2 por debajo de la fila i.\n",
    "y n es c más el número de intercambios de columnas y filas que se han \n",
    "producido durante el cálculo. Por ejemplo,\n",
    "~~~\n",
    "ghci> gaussCAux (fromLists [[1.0,2,3],[1,2,4],[1,2,5]]) 1 1 0\n",
    "(1,( 1.0 3.0 2.0 )\n",
    "   ( 0.0 1.0 0.0 )\n",
    "   ( 0.0 0.0 0.0 ))\n",
    "~~~\n",
    "---"
   ]
  },
  {
   "cell_type": "code",
   "execution_count": 87,
   "metadata": {
    "collapsed": true,
    "jupyter": {
     "outputs_hidden": true
    }
   },
   "outputs": [],
   "source": [
    "gaussCAux :: (Fractional a, Eq a) => \n",
    "             Matrix a -> Int -> Int -> Int -> (Int,Matrix a)\n",
    "gaussCAux p i j c = undefined"
   ]
  },
  {
   "cell_type": "code",
   "execution_count": 88,
   "metadata": {
    "collapsed": true,
    "jupyter": {
     "outputs_hidden": true
    }
   },
   "outputs": [
    {
     "ename": "",
     "evalue": "",
     "header": "MessageHeader {mhIdentifiers = [\"6ed6f3d1-63da-49e1-adcf-d5b55d9114ae\"], mhParentHeader = Just (MessageHeader {mhIdentifiers = [\"6ed6f3d1-63da-49e1-adcf-d5b55d9114ae\"], mhParentHeader = Nothing, mhMetadata = Metadata (fromList [(\"deletedCells\",Array [String \"55f75c61-e59d-4ced-86c9-1bdc1060149d\"]),(\"cellId\",String \"c972564c-5dcd-4919-b019-c81981901735\")]), mhMessageId = UUID {uuidToString = \"323bdf8c-165b-48eb-9b18-86e5524dd66e\"}, mhSessionId = UUID {uuidToString = \"6ed6f3d1-63da-49e1-adcf-d5b55d9114ae\"}, mhUsername = \"\", mhMsgType = ExecuteRequestMessage}), mhMetadata = Metadata (fromList []), mhMessageId = UUID {uuidToString = \"1e981ad8-fb86-465a-8a1e-196ea63f82f7\"}, mhSessionId = UUID {uuidToString = \"6ed6f3d1-63da-49e1-adcf-d5b55d9114ae\"}, mhUsername = \"\", mhMsgType = ExecuteErrorMessage}",
     "output_type": "error",
     "traceback": [
      "Prelude.undefined\nCallStack (from HasCallStack):\n  error, called at libraries/base/GHC/Err.hs:78:14 in base:GHC.Err\n  undefined, called at <interactive>:3:21 in interactive:Ghci1488"
     ]
    }
   ],
   "source": [
    "(n,g) = gaussCAux (fromLists [[1.0,2,3],[1,2,4],[1,2,5]]) 1 1 0\n",
    "n\n",
    "g"
   ]
  },
  {
   "cell_type": "markdown",
   "metadata": {},
   "source": [
    "---\n",
    "**Ejercicio 36.** Definir la función\n",
    "~~~\n",
    "gaussC :: (Fractional a, Eq a) => Matriz a -> Matriz a\n",
    "~~~\n",
    "tal que (gaussC p) es el par (n,q), donde q es la triangularización\n",
    "de la matriz p por el método de Gauss y n es el número de\n",
    "intercambios de columnas y filas que se han producido durante el\n",
    "cálculo. Por ejemplo,\n",
    "~~~\n",
    "ghci> gaussC (fromLists [[1.0,2,3],[1,2,4],[1,2,5]])\n",
    "(1, ( 1.0 3.0 2.0 )\n",
    "    ( 0.0 1.0 0.0 )\n",
    "    ( 0.0 0.0 0.0 )\n",
    "~~~\n",
    "---"
   ]
  },
  {
   "cell_type": "code",
   "execution_count": 89,
   "metadata": {
    "collapsed": true,
    "jupyter": {
     "outputs_hidden": true
    }
   },
   "outputs": [],
   "source": [
    "gaussC :: (Fractional a, Eq a) => Matrix a -> (Int,Matrix a)\n",
    "gaussC p = undefined"
   ]
  },
  {
   "cell_type": "code",
   "execution_count": 90,
   "metadata": {
    "collapsed": true,
    "jupyter": {
     "outputs_hidden": true
    }
   },
   "outputs": [
    {
     "ename": "",
     "evalue": "",
     "header": "MessageHeader {mhIdentifiers = [\"6ed6f3d1-63da-49e1-adcf-d5b55d9114ae\"], mhParentHeader = Just (MessageHeader {mhIdentifiers = [\"6ed6f3d1-63da-49e1-adcf-d5b55d9114ae\"], mhParentHeader = Nothing, mhMetadata = Metadata (fromList [(\"deletedCells\",Array [String \"55f75c61-e59d-4ced-86c9-1bdc1060149d\"]),(\"cellId\",String \"2c4e118a-8b66-4571-8e34-7d087e77aa84\")]), mhMessageId = UUID {uuidToString = \"cf4bd8b0-dbaf-49ee-a07b-6bc7121be160\"}, mhSessionId = UUID {uuidToString = \"6ed6f3d1-63da-49e1-adcf-d5b55d9114ae\"}, mhUsername = \"\", mhMsgType = ExecuteRequestMessage}), mhMetadata = Metadata (fromList []), mhMessageId = UUID {uuidToString = \"f2de015d-289c-4a57-b136-e276a9be2c94\"}, mhSessionId = UUID {uuidToString = \"6ed6f3d1-63da-49e1-adcf-d5b55d9114ae\"}, mhUsername = \"\", mhMsgType = ExecuteErrorMessage}",
     "output_type": "error",
     "traceback": [
      "Prelude.undefined\nCallStack (from HasCallStack):\n  error, called at libraries/base/GHC/Err.hs:78:14 in base:GHC.Err\n  undefined, called at <interactive>:2:12 in interactive:Ghci1523"
     ]
    }
   ],
   "source": [
    "(n,g) = gaussC (fromLists [[1.0,2,3],[1,2,4],[1,2,5]])\n",
    "n\n",
    "g"
   ]
  },
  {
   "cell_type": "markdown",
   "metadata": {},
   "source": [
    "---\n",
    "**Ejercicio 37.** Definir la función\n",
    "~~~\n",
    "determinante :: (Fractional a, Eq a) => Matriz a -> a\n",
    "~~~\n",
    "tal que (determinante p) es el determinante de la matriz p. Por\n",
    "ejemplo,\n",
    "~~~\n",
    "ghci> determinante (fromLists [[1.0,2,3],[1,3,4],[1,2,5]])\n",
    "2.0\n",
    "~~~\n",
    "---"
   ]
  },
  {
   "cell_type": "code",
   "execution_count": 91,
   "metadata": {
    "collapsed": true,
    "jupyter": {
     "outputs_hidden": true
    }
   },
   "outputs": [],
   "source": [
    "determinante :: (Fractional a, Eq a) => Matrix a -> a\n",
    "determinante p = undefined"
   ]
  },
  {
   "cell_type": "code",
   "execution_count": 92,
   "metadata": {
    "collapsed": true,
    "jupyter": {
     "outputs_hidden": true
    }
   },
   "outputs": [
    {
     "ename": "",
     "evalue": "",
     "header": "MessageHeader {mhIdentifiers = [\"6ed6f3d1-63da-49e1-adcf-d5b55d9114ae\"], mhParentHeader = Just (MessageHeader {mhIdentifiers = [\"6ed6f3d1-63da-49e1-adcf-d5b55d9114ae\"], mhParentHeader = Nothing, mhMetadata = Metadata (fromList [(\"deletedCells\",Array [String \"55f75c61-e59d-4ced-86c9-1bdc1060149d\"]),(\"cellId\",String \"0721e843-b5bf-446c-ae97-4099daf04440\")]), mhMessageId = UUID {uuidToString = \"d90a3ff1-ae2d-4784-992b-1496e2c2f339\"}, mhSessionId = UUID {uuidToString = \"6ed6f3d1-63da-49e1-adcf-d5b55d9114ae\"}, mhUsername = \"\", mhMsgType = ExecuteRequestMessage}), mhMetadata = Metadata (fromList []), mhMessageId = UUID {uuidToString = \"81437873-7bf4-4a81-9ff5-fe7b0e1f0619\"}, mhSessionId = UUID {uuidToString = \"6ed6f3d1-63da-49e1-adcf-d5b55d9114ae\"}, mhUsername = \"\", mhMsgType = ExecuteErrorMessage}",
     "output_type": "error",
     "traceback": [
      "Prelude.undefined\nCallStack (from HasCallStack):\n  error, called at libraries/base/GHC/Err.hs:78:14 in base:GHC.Err\n  undefined, called at <interactive>:2:18 in interactive:Ghci1558"
     ]
    }
   ],
   "source": [
    "determinante (fromLists [[1.0,2,3],[1,3,4],[1,2,5]])  "
   ]
  }
 ],
 "metadata": {
  "kernelspec": {
   "display_name": "Haskell",
   "language": "haskell",
   "name": "haskell"
  },
  "language_info": {
   "codemirror_mode": "ihaskell",
   "file_extension": ".hs",
   "name": "haskell",
   "pygments_lexer": "Haskell",
   "version": "8.6.5"
  }
 },
 "nbformat": 4,
 "nbformat_minor": 4
}
